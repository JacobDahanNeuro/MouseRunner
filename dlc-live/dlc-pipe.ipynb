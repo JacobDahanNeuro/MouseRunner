{
 "cells": [
  {
   "cell_type": "markdown",
   "id": "f844dd82",
   "metadata": {},
   "source": [
    "# DLC pipeline for online video analysis"
   ]
  },
  {
   "cell_type": "code",
   "execution_count": 1,
   "id": "ccfe06b9",
   "metadata": {},
   "outputs": [],
   "source": [
    "import os\n",
    "import glob\n",
    "import itertools\n",
    "import deeplabcut"
   ]
  },
  {
   "cell_type": "markdown",
   "id": "4214a0f5",
   "metadata": {},
   "source": [
    "### Variable definitions"
   ]
  },
  {
   "cell_type": "code",
   "execution_count": 2,
   "id": "ceffc35d",
   "metadata": {},
   "outputs": [],
   "source": [
    "project_name = 'dlc-live'"
   ]
  },
  {
   "cell_type": "code",
   "execution_count": 3,
   "id": "1559d212",
   "metadata": {},
   "outputs": [],
   "source": [
    "experimenter = 'MouseRunner'"
   ]
  },
  {
   "cell_type": "code",
   "execution_count": 4,
   "id": "f62a4aa4",
   "metadata": {},
   "outputs": [],
   "source": [
    "working_directory = r\"{}\".format(os.getcwd())"
   ]
  },
  {
   "cell_type": "code",
   "execution_count": 5,
   "id": "2ceea9b1",
   "metadata": {},
   "outputs": [],
   "source": [
    "videos = [r\"E:\\MouseRunner\\behavior\\Cohort_3.1\\Observer_Experienced\\001479\\day2_001476+001479_serial21016426.mp4\",\n",
    "          r\"E:\\MouseRunner\\behavior\\Cohort_3.1\\Observer_Experienced\\001479\\day2_001476+001479_serial21107835.mp4\",\n",
    "          r\"E:\\MouseRunner\\behavior\\Cohort_3.1\\Observer_Experienced\\001479\\day3_001479_serial21107835.mp4\",\n",
    "          r\"E:\\MouseRunner\\behavior\\Cohort_3.1\\Observer_Experienced\\001479\\day4_001479_serial21107835.mp4\",\n",
    "          r\"E:\\MouseRunner\\behavior\\Cohort_3.1\\Observer_Experienced\\024752\\day2_024751+024752_serial21016426.mp4\",\n",
    "          r\"E:\\MouseRunner\\behavior\\Cohort_3.1\\Observer_Experienced\\024752\\day2_024751+024752_serial21107835.mp4\",\n",
    "          r\"E:\\MouseRunner\\behavior\\Cohort_3.1\\Observer_Experienced\\024752\\day3_024752_serial21107835.mp4\",\n",
    "          r\"E:\\MouseRunner\\behavior\\Cohort_3.1\\Observer_Experienced\\024752\\day4_024752_serial21107835.mp4\",\n",
    "          r\"E:\\MouseRunner\\behavior\\Cohort_3.1\\Observer_Experienced\\024755\\day2_024750+024755_serial21016426.mp4\",\n",
    "          r\"E:\\MouseRunner\\behavior\\Cohort_3.1\\Observer_Experienced\\024755\\day2_024750+024755_serial21107835.mp4\",\n",
    "          r\"E:\\MouseRunner\\behavior\\Cohort_3.1\\Observer_Experienced\\024755\\day3_024755_serial21107835.mp4\",\n",
    "          r\"E:\\MouseRunner\\behavior\\Cohort_3.1\\Observer_Experienced\\024755\\day4_024755_serial21107835.mp4\",\n",
    "          r\"E:\\MouseRunner\\behavior\\Cohort_3.1\\Observer_Experienced\\024760\\day2_024759+024760_serial21016426.mp4\",\n",
    "          r\"E:\\MouseRunner\\behavior\\Cohort_3.1\\Observer_Experienced\\024760\\day2_024759+024760_serial21107835.mp4\",\n",
    "          r\"E:\\MouseRunner\\behavior\\Cohort_3.1\\Observer_Experienced\\024760\\day3_024760_serial21107835.mp4\",\n",
    "          r\"E:\\MouseRunner\\behavior\\Cohort_3.1\\Observer_Experienced\\024760\\day4_024760_serial21107835.mp4\",\n",
    "          r\"E:\\MouseRunner\\behavior\\Cohort_3.2\\Observer_Experienced\\001478\\day2_001477+001478_serial21016426.mp4\",\n",
    "          r\"E:\\MouseRunner\\behavior\\Cohort_3.2\\Observer_Experienced\\001478\\day2_001477+001478_serial21107835.mp4\",\n",
    "          r\"E:\\MouseRunner\\behavior\\Cohort_3.2\\Observer_Experienced\\001478\\day3_001478_serial21107835.mp4\",\n",
    "          r\"E:\\MouseRunner\\behavior\\Cohort_3.2\\Observer_Experienced\\001481\\day2_001480+001481_serial21016426.mp4\",\n",
    "          r\"E:\\MouseRunner\\behavior\\Cohort_3.2\\Observer_Experienced\\001481\\day2_001480+001481_serial21107835.mp4\",\n",
    "          r\"E:\\MouseRunner\\behavior\\Cohort_3.2\\Observer_Experienced\\001481\\day3_001481_serial21107835.mp4\",\n",
    "          r\"E:\\MouseRunner\\behavior\\Cohort_3.3\\Observer_Experienced\\001482\\day2_024758+001482_serial21016426.mp4\",\n",
    "          r\"E:\\MouseRunner\\behavior\\Cohort_3.3\\Observer_Experienced\\001482\\day2_024758+001482_serial21107835.mp4\",\n",
    "          r\"E:\\MouseRunner\\behavior\\Cohort_3.3\\Observer_Experienced\\001482\\day3_001482_serial21107835.mp4\",\n",
    "          r\"E:\\MouseRunner\\retired\\Cohort_3.1\\Demonstrator\\001476\\day3_001476_serial21107835.mp4\",\n",
    "          r\"E:\\MouseRunner\\retired\\Cohort_3.1\\Demonstrator\\024750\\day3_024750_serial21107835.mp4\",\n",
    "          r\"E:\\MouseRunner\\retired\\Cohort_3.1\\Demonstrator\\024751\\day3_024751_serial21107835.mp4\",\n",
    "          r\"E:\\MouseRunner\\retired\\Cohort_3.1\\Demonstrator\\024753\\day3_024753_serial21107835.mp4\",\n",
    "          r\"E:\\MouseRunner\\retired\\Cohort_3.1\\Demonstrator\\024759\\day3_024759_serial21107835.mp4\",\n",
    "          r\"E:\\MouseRunner\\retired\\Cohort_3.2\\Demonstrator\\001477\\day3_001477_serial21107835.mp4\",\n",
    "          r\"E:\\MouseRunner\\retired\\Cohort_3.2\\Demonstrator\\001480\\day3_001480_serial21107835.mp4\",\n",
    "          r\"E:\\MouseRunner\\retired\\Cohort_3.3\\Demonstrator\\024758\\day3_024758_serial21107835.mp4\"]"
   ]
  },
  {
   "cell_type": "markdown",
   "id": "1071096e",
   "metadata": {},
   "source": [
    "### Create project"
   ]
  },
  {
   "cell_type": "code",
   "execution_count": 6,
   "id": "fe278869",
   "metadata": {},
   "outputs": [
    {
     "name": "stdout",
     "output_type": "stream",
     "text": [
      "Created \"E:\\MouseRunner\\dlc-live\\dlc-live-MouseRunner-2022-03-29\\videos\"\n",
      "Created \"E:\\MouseRunner\\dlc-live\\dlc-live-MouseRunner-2022-03-29\\labeled-data\"\n",
      "Created \"E:\\MouseRunner\\dlc-live\\dlc-live-MouseRunner-2022-03-29\\training-datasets\"\n",
      "Created \"E:\\MouseRunner\\dlc-live\\dlc-live-MouseRunner-2022-03-29\\dlc-models\"\n",
      "Attempting to create a symbolic link of the video ...\n",
      "Created the symlink of E:\\MouseRunner\\behavior\\Cohort_3.1\\Observer_Experienced\\001479\\day2_001476+001479_serial21016426.mp4 to E:\\MouseRunner\\dlc-live\\dlc-live-MouseRunner-2022-03-29\\videos\\day2_001476+001479_serial21016426.mp4\n",
      "Created the symlink of E:\\MouseRunner\\behavior\\Cohort_3.1\\Observer_Experienced\\001479\\day2_001476+001479_serial21107835.mp4 to E:\\MouseRunner\\dlc-live\\dlc-live-MouseRunner-2022-03-29\\videos\\day2_001476+001479_serial21107835.mp4\n",
      "Created the symlink of E:\\MouseRunner\\behavior\\Cohort_3.1\\Observer_Experienced\\001479\\day3_001479_serial21107835.mp4 to E:\\MouseRunner\\dlc-live\\dlc-live-MouseRunner-2022-03-29\\videos\\day3_001479_serial21107835.mp4\n",
      "Created the symlink of E:\\MouseRunner\\behavior\\Cohort_3.1\\Observer_Experienced\\001479\\day4_001479_serial21107835.mp4 to E:\\MouseRunner\\dlc-live\\dlc-live-MouseRunner-2022-03-29\\videos\\day4_001479_serial21107835.mp4\n",
      "Created the symlink of E:\\MouseRunner\\behavior\\Cohort_3.1\\Observer_Experienced\\024752\\day2_024751+024752_serial21016426.mp4 to E:\\MouseRunner\\dlc-live\\dlc-live-MouseRunner-2022-03-29\\videos\\day2_024751+024752_serial21016426.mp4\n",
      "Created the symlink of E:\\MouseRunner\\behavior\\Cohort_3.1\\Observer_Experienced\\024752\\day2_024751+024752_serial21107835.mp4 to E:\\MouseRunner\\dlc-live\\dlc-live-MouseRunner-2022-03-29\\videos\\day2_024751+024752_serial21107835.mp4\n",
      "Created the symlink of E:\\MouseRunner\\behavior\\Cohort_3.1\\Observer_Experienced\\024752\\day3_024752_serial21107835.mp4 to E:\\MouseRunner\\dlc-live\\dlc-live-MouseRunner-2022-03-29\\videos\\day3_024752_serial21107835.mp4\n",
      "Created the symlink of E:\\MouseRunner\\behavior\\Cohort_3.1\\Observer_Experienced\\024752\\day4_024752_serial21107835.mp4 to E:\\MouseRunner\\dlc-live\\dlc-live-MouseRunner-2022-03-29\\videos\\day4_024752_serial21107835.mp4\n",
      "Created the symlink of E:\\MouseRunner\\behavior\\Cohort_3.1\\Observer_Experienced\\024755\\day2_024750+024755_serial21016426.mp4 to E:\\MouseRunner\\dlc-live\\dlc-live-MouseRunner-2022-03-29\\videos\\day2_024750+024755_serial21016426.mp4\n",
      "Created the symlink of E:\\MouseRunner\\behavior\\Cohort_3.1\\Observer_Experienced\\024755\\day2_024750+024755_serial21107835.mp4 to E:\\MouseRunner\\dlc-live\\dlc-live-MouseRunner-2022-03-29\\videos\\day2_024750+024755_serial21107835.mp4\n",
      "Created the symlink of E:\\MouseRunner\\behavior\\Cohort_3.1\\Observer_Experienced\\024755\\day3_024755_serial21107835.mp4 to E:\\MouseRunner\\dlc-live\\dlc-live-MouseRunner-2022-03-29\\videos\\day3_024755_serial21107835.mp4\n",
      "Created the symlink of E:\\MouseRunner\\behavior\\Cohort_3.1\\Observer_Experienced\\024755\\day4_024755_serial21107835.mp4 to E:\\MouseRunner\\dlc-live\\dlc-live-MouseRunner-2022-03-29\\videos\\day4_024755_serial21107835.mp4\n",
      "Created the symlink of E:\\MouseRunner\\behavior\\Cohort_3.1\\Observer_Experienced\\024760\\day2_024759+024760_serial21016426.mp4 to E:\\MouseRunner\\dlc-live\\dlc-live-MouseRunner-2022-03-29\\videos\\day2_024759+024760_serial21016426.mp4\n",
      "Created the symlink of E:\\MouseRunner\\behavior\\Cohort_3.1\\Observer_Experienced\\024760\\day2_024759+024760_serial21107835.mp4 to E:\\MouseRunner\\dlc-live\\dlc-live-MouseRunner-2022-03-29\\videos\\day2_024759+024760_serial21107835.mp4\n",
      "Created the symlink of E:\\MouseRunner\\behavior\\Cohort_3.1\\Observer_Experienced\\024760\\day3_024760_serial21107835.mp4 to E:\\MouseRunner\\dlc-live\\dlc-live-MouseRunner-2022-03-29\\videos\\day3_024760_serial21107835.mp4\n",
      "Created the symlink of E:\\MouseRunner\\behavior\\Cohort_3.1\\Observer_Experienced\\024760\\day4_024760_serial21107835.mp4 to E:\\MouseRunner\\dlc-live\\dlc-live-MouseRunner-2022-03-29\\videos\\day4_024760_serial21107835.mp4\n",
      "Created the symlink of E:\\MouseRunner\\behavior\\Cohort_3.2\\Observer_Experienced\\001478\\day2_001477+001478_serial21016426.mp4 to E:\\MouseRunner\\dlc-live\\dlc-live-MouseRunner-2022-03-29\\videos\\day2_001477+001478_serial21016426.mp4\n",
      "Created the symlink of E:\\MouseRunner\\behavior\\Cohort_3.2\\Observer_Experienced\\001478\\day2_001477+001478_serial21107835.mp4 to E:\\MouseRunner\\dlc-live\\dlc-live-MouseRunner-2022-03-29\\videos\\day2_001477+001478_serial21107835.mp4\n",
      "Created the symlink of E:\\MouseRunner\\behavior\\Cohort_3.2\\Observer_Experienced\\001478\\day3_001478_serial21107835.mp4 to E:\\MouseRunner\\dlc-live\\dlc-live-MouseRunner-2022-03-29\\videos\\day3_001478_serial21107835.mp4\n",
      "Created the symlink of E:\\MouseRunner\\behavior\\Cohort_3.2\\Observer_Experienced\\001481\\day2_001480+001481_serial21016426.mp4 to E:\\MouseRunner\\dlc-live\\dlc-live-MouseRunner-2022-03-29\\videos\\day2_001480+001481_serial21016426.mp4\n",
      "Created the symlink of E:\\MouseRunner\\behavior\\Cohort_3.2\\Observer_Experienced\\001481\\day2_001480+001481_serial21107835.mp4 to E:\\MouseRunner\\dlc-live\\dlc-live-MouseRunner-2022-03-29\\videos\\day2_001480+001481_serial21107835.mp4\n",
      "Created the symlink of E:\\MouseRunner\\behavior\\Cohort_3.2\\Observer_Experienced\\001481\\day3_001481_serial21107835.mp4 to E:\\MouseRunner\\dlc-live\\dlc-live-MouseRunner-2022-03-29\\videos\\day3_001481_serial21107835.mp4\n",
      "Created the symlink of E:\\MouseRunner\\behavior\\Cohort_3.3\\Observer_Experienced\\001482\\day2_024758+001482_serial21016426.mp4 to E:\\MouseRunner\\dlc-live\\dlc-live-MouseRunner-2022-03-29\\videos\\day2_024758+001482_serial21016426.mp4\n",
      "Created the symlink of E:\\MouseRunner\\behavior\\Cohort_3.3\\Observer_Experienced\\001482\\day2_024758+001482_serial21107835.mp4 to E:\\MouseRunner\\dlc-live\\dlc-live-MouseRunner-2022-03-29\\videos\\day2_024758+001482_serial21107835.mp4\n",
      "Created the symlink of E:\\MouseRunner\\behavior\\Cohort_3.3\\Observer_Experienced\\001482\\day3_001482_serial21107835.mp4 to E:\\MouseRunner\\dlc-live\\dlc-live-MouseRunner-2022-03-29\\videos\\day3_001482_serial21107835.mp4\n",
      "Created the symlink of E:\\MouseRunner\\retired\\Cohort_3.1\\Demonstrator\\001476\\day3_001476_serial21107835.mp4 to E:\\MouseRunner\\dlc-live\\dlc-live-MouseRunner-2022-03-29\\videos\\day3_001476_serial21107835.mp4\n",
      "Created the symlink of E:\\MouseRunner\\retired\\Cohort_3.1\\Demonstrator\\024750\\day3_024750_serial21107835.mp4 to E:\\MouseRunner\\dlc-live\\dlc-live-MouseRunner-2022-03-29\\videos\\day3_024750_serial21107835.mp4\n",
      "Created the symlink of E:\\MouseRunner\\retired\\Cohort_3.1\\Demonstrator\\024751\\day3_024751_serial21107835.mp4 to E:\\MouseRunner\\dlc-live\\dlc-live-MouseRunner-2022-03-29\\videos\\day3_024751_serial21107835.mp4\n",
      "Created the symlink of E:\\MouseRunner\\retired\\Cohort_3.1\\Demonstrator\\024753\\day3_024753_serial21107835.mp4 to E:\\MouseRunner\\dlc-live\\dlc-live-MouseRunner-2022-03-29\\videos\\day3_024753_serial21107835.mp4\n",
      "Created the symlink of E:\\MouseRunner\\retired\\Cohort_3.1\\Demonstrator\\024759\\day3_024759_serial21107835.mp4 to E:\\MouseRunner\\dlc-live\\dlc-live-MouseRunner-2022-03-29\\videos\\day3_024759_serial21107835.mp4\n",
      "Created the symlink of E:\\MouseRunner\\retired\\Cohort_3.2\\Demonstrator\\001477\\day3_001477_serial21107835.mp4 to E:\\MouseRunner\\dlc-live\\dlc-live-MouseRunner-2022-03-29\\videos\\day3_001477_serial21107835.mp4\n",
      "Created the symlink of E:\\MouseRunner\\retired\\Cohort_3.2\\Demonstrator\\001480\\day3_001480_serial21107835.mp4 to E:\\MouseRunner\\dlc-live\\dlc-live-MouseRunner-2022-03-29\\videos\\day3_001480_serial21107835.mp4\n",
      "Created the symlink of E:\\MouseRunner\\retired\\Cohort_3.3\\Demonstrator\\024758\\day3_024758_serial21107835.mp4 to E:\\MouseRunner\\dlc-live\\dlc-live-MouseRunner-2022-03-29\\videos\\day3_024758_serial21107835.mp4\n",
      "E:\\MouseRunner\\dlc-live\\dlc-live-MouseRunner-2022-03-29\\videos\\day2_001476+001479_serial21016426.mp4\n",
      "E:\\MouseRunner\\dlc-live\\dlc-live-MouseRunner-2022-03-29\\videos\\day2_001476+001479_serial21107835.mp4\n",
      "E:\\MouseRunner\\dlc-live\\dlc-live-MouseRunner-2022-03-29\\videos\\day3_001479_serial21107835.mp4\n",
      "E:\\MouseRunner\\dlc-live\\dlc-live-MouseRunner-2022-03-29\\videos\\day4_001479_serial21107835.mp4\n",
      "E:\\MouseRunner\\dlc-live\\dlc-live-MouseRunner-2022-03-29\\videos\\day2_024751+024752_serial21016426.mp4\n",
      "E:\\MouseRunner\\dlc-live\\dlc-live-MouseRunner-2022-03-29\\videos\\day2_024751+024752_serial21107835.mp4\n",
      "E:\\MouseRunner\\dlc-live\\dlc-live-MouseRunner-2022-03-29\\videos\\day3_024752_serial21107835.mp4\n",
      "E:\\MouseRunner\\dlc-live\\dlc-live-MouseRunner-2022-03-29\\videos\\day4_024752_serial21107835.mp4\n",
      "E:\\MouseRunner\\dlc-live\\dlc-live-MouseRunner-2022-03-29\\videos\\day2_024750+024755_serial21016426.mp4\n",
      "E:\\MouseRunner\\dlc-live\\dlc-live-MouseRunner-2022-03-29\\videos\\day2_024750+024755_serial21107835.mp4\n"
     ]
    },
    {
     "name": "stdout",
     "output_type": "stream",
     "text": [
      "E:\\MouseRunner\\dlc-live\\dlc-live-MouseRunner-2022-03-29\\videos\\day3_024755_serial21107835.mp4\n",
      "E:\\MouseRunner\\dlc-live\\dlc-live-MouseRunner-2022-03-29\\videos\\day4_024755_serial21107835.mp4\n",
      "E:\\MouseRunner\\dlc-live\\dlc-live-MouseRunner-2022-03-29\\videos\\day2_024759+024760_serial21016426.mp4\n",
      "E:\\MouseRunner\\dlc-live\\dlc-live-MouseRunner-2022-03-29\\videos\\day2_024759+024760_serial21107835.mp4\n",
      "E:\\MouseRunner\\dlc-live\\dlc-live-MouseRunner-2022-03-29\\videos\\day3_024760_serial21107835.mp4\n",
      "E:\\MouseRunner\\dlc-live\\dlc-live-MouseRunner-2022-03-29\\videos\\day4_024760_serial21107835.mp4\n",
      "E:\\MouseRunner\\dlc-live\\dlc-live-MouseRunner-2022-03-29\\videos\\day2_001477+001478_serial21016426.mp4\n",
      "E:\\MouseRunner\\dlc-live\\dlc-live-MouseRunner-2022-03-29\\videos\\day2_001477+001478_serial21107835.mp4\n",
      "E:\\MouseRunner\\dlc-live\\dlc-live-MouseRunner-2022-03-29\\videos\\day3_001478_serial21107835.mp4\n",
      "E:\\MouseRunner\\dlc-live\\dlc-live-MouseRunner-2022-03-29\\videos\\day2_001480+001481_serial21016426.mp4\n",
      "E:\\MouseRunner\\dlc-live\\dlc-live-MouseRunner-2022-03-29\\videos\\day2_001480+001481_serial21107835.mp4\n",
      "E:\\MouseRunner\\dlc-live\\dlc-live-MouseRunner-2022-03-29\\videos\\day3_001481_serial21107835.mp4\n",
      "E:\\MouseRunner\\dlc-live\\dlc-live-MouseRunner-2022-03-29\\videos\\day2_024758+001482_serial21016426.mp4\n",
      "E:\\MouseRunner\\dlc-live\\dlc-live-MouseRunner-2022-03-29\\videos\\day2_024758+001482_serial21107835.mp4\n",
      "E:\\MouseRunner\\dlc-live\\dlc-live-MouseRunner-2022-03-29\\videos\\day3_001482_serial21107835.mp4\n",
      "E:\\MouseRunner\\dlc-live\\dlc-live-MouseRunner-2022-03-29\\videos\\day3_001476_serial21107835.mp4\n",
      "E:\\MouseRunner\\dlc-live\\dlc-live-MouseRunner-2022-03-29\\videos\\day3_024750_serial21107835.mp4\n",
      "E:\\MouseRunner\\dlc-live\\dlc-live-MouseRunner-2022-03-29\\videos\\day3_024751_serial21107835.mp4\n",
      "E:\\MouseRunner\\dlc-live\\dlc-live-MouseRunner-2022-03-29\\videos\\day3_024753_serial21107835.mp4\n",
      "E:\\MouseRunner\\dlc-live\\dlc-live-MouseRunner-2022-03-29\\videos\\day3_024759_serial21107835.mp4\n",
      "E:\\MouseRunner\\dlc-live\\dlc-live-MouseRunner-2022-03-29\\videos\\day3_001477_serial21107835.mp4\n",
      "E:\\MouseRunner\\dlc-live\\dlc-live-MouseRunner-2022-03-29\\videos\\day3_001480_serial21107835.mp4\n",
      "E:\\MouseRunner\\dlc-live\\dlc-live-MouseRunner-2022-03-29\\videos\\day3_024758_serial21107835.mp4\n",
      "Generated \"E:\\MouseRunner\\dlc-live\\dlc-live-MouseRunner-2022-03-29\\config.yaml\"\n",
      "\n",
      "A new project with name dlc-live-MouseRunner-2022-03-29 is created at E:\\MouseRunner\\dlc-live and a configurable file (config.yaml) is stored there. Change the parameters in this file to adapt to your project's needs.\n",
      " Once you have changed the configuration file, use the function 'extract_frames' to select frames for labeling.\n",
      ". [OPTIONAL] Use the function 'add_new_videos' to add new videos to your project (at any stage).\n"
     ]
    }
   ],
   "source": [
    "config_path = deeplabcut.create_new_project(project_name,\\\n",
    "                                            experimenter,\\\n",
    "                                            videos,\\\n",
    "                                            working_directory=working_directory,\\\n",
    "                                            copy_videos=False,\\\n",
    "                                            multianimal=False)"
   ]
  },
  {
   "cell_type": "markdown",
   "id": "58a9412f",
   "metadata": {},
   "source": [
    "### Assign bodypart labels and create skeleton"
   ]
  },
  {
   "cell_type": "code",
   "execution_count": 7,
   "id": "6f756ffd",
   "metadata": {},
   "outputs": [],
   "source": [
    "bodyparts = ['snout', 'left_ear', 'right_ear', 'left_eye', 'right_eye',\\\n",
    "             'left_forepaw', 'right_forepaw', 'left_hindpaw', 'right_hindpaw', 'tail_base', 'tail_tip']"
   ]
  },
  {
   "cell_type": "code",
   "execution_count": 8,
   "id": "8673de5d",
   "metadata": {},
   "outputs": [],
   "source": [
    "skeleton = list(itertools.combinations(bodyparts,2))"
   ]
  },
  {
   "cell_type": "markdown",
   "id": "82e4d2c2",
   "metadata": {},
   "source": [
    "### Edit configuration file"
   ]
  },
  {
   "cell_type": "code",
   "execution_count": 11,
   "id": "045d51bd",
   "metadata": {},
   "outputs": [],
   "source": [
    "edits = {'identity'             : True,  \n",
    "         'colormap'             : 'cool',\n",
    "         'individuals'          : ['mouse1', 'mouse2'],\n",
    "         'bodyparts'            : bodyparts,\n",
    "         'skeleton'             : skeleton,\n",
    "         'start'                : 0.25,\n",
    "         'stop'                 : 0.75,\n",
    "         'numframes2pick'       : 8,\n",
    "         'dotsize'              : 5}"
   ]
  },
  {
   "cell_type": "code",
   "execution_count": 12,
   "id": "f737d5c9",
   "metadata": {},
   "outputs": [
    {
     "data": {
      "text/plain": [
       "ordereddict([('Task', 'dlc-live'), ('scorer', 'MouseRunner'), ('date', 'Mar29'), ('multianimalproject', False), ('identity', True), ('project_path', 'E:\\\\MouseRunner\\\\dlc-live\\\\dlc-live-MouseRunner-2022-03-29'), ('video_sets', ordereddict([('E:\\\\MouseRunner\\\\behavior\\\\Cohort_3.1\\\\Observer_Experienced\\\\001479\\\\day2_001476+001479_serial21016426.mp4', ordereddict([('crop', '0, 1852, 0, 1300')])), ('E:\\\\MouseRunner\\\\behavior\\\\Cohort_3.1\\\\Observer_Experienced\\\\001479\\\\day2_001476+001479_serial21107835.mp4', ordereddict([('crop', '0, 1852, 0, 1300')])), ('E:\\\\MouseRunner\\\\behavior\\\\Cohort_3.1\\\\Observer_Experienced\\\\001479\\\\day3_001479_serial21107835.mp4', ordereddict([('crop', '0, 2200, 0, 1548')])), ('E:\\\\MouseRunner\\\\behavior\\\\Cohort_3.1\\\\Observer_Experienced\\\\001479\\\\day4_001479_serial21107835.mp4', ordereddict([('crop', '0, 2200, 0, 1548')])), ('E:\\\\MouseRunner\\\\behavior\\\\Cohort_3.1\\\\Observer_Experienced\\\\024752\\\\day2_024751+024752_serial21016426.mp4', ordereddict([('crop', '0, 1852, 0, 1300')])), ('E:\\\\MouseRunner\\\\behavior\\\\Cohort_3.1\\\\Observer_Experienced\\\\024752\\\\day2_024751+024752_serial21107835.mp4', ordereddict([('crop', '0, 1852, 0, 1300')])), ('E:\\\\MouseRunner\\\\behavior\\\\Cohort_3.1\\\\Observer_Experienced\\\\024752\\\\day3_024752_serial21107835.mp4', ordereddict([('crop', '0, 2200, 0, 1548')])), ('E:\\\\MouseRunner\\\\behavior\\\\Cohort_3.1\\\\Observer_Experienced\\\\024752\\\\day4_024752_serial21107835.mp4', ordereddict([('crop', '0, 2200, 0, 1548')])), ('E:\\\\MouseRunner\\\\behavior\\\\Cohort_3.1\\\\Observer_Experienced\\\\024755\\\\day2_024750+024755_serial21016426.mp4', ordereddict([('crop', '0, 1852, 0, 1300')])), ('E:\\\\MouseRunner\\\\behavior\\\\Cohort_3.1\\\\Observer_Experienced\\\\024755\\\\day2_024750+024755_serial21107835.mp4', ordereddict([('crop', '0, 1852, 0, 1300')])), ('E:\\\\MouseRunner\\\\behavior\\\\Cohort_3.1\\\\Observer_Experienced\\\\024755\\\\day3_024755_serial21107835.mp4', ordereddict([('crop', '0, 2200, 0, 1548')])), ('E:\\\\MouseRunner\\\\behavior\\\\Cohort_3.1\\\\Observer_Experienced\\\\024755\\\\day4_024755_serial21107835.mp4', ordereddict([('crop', '0, 2200, 0, 1548')])), ('E:\\\\MouseRunner\\\\behavior\\\\Cohort_3.1\\\\Observer_Experienced\\\\024760\\\\day2_024759+024760_serial21016426.mp4', ordereddict([('crop', '0, 1852, 0, 1300')])), ('E:\\\\MouseRunner\\\\behavior\\\\Cohort_3.1\\\\Observer_Experienced\\\\024760\\\\day2_024759+024760_serial21107835.mp4', ordereddict([('crop', '0, 1852, 0, 1300')])), ('E:\\\\MouseRunner\\\\behavior\\\\Cohort_3.1\\\\Observer_Experienced\\\\024760\\\\day3_024760_serial21107835.mp4', ordereddict([('crop', '0, 2200, 0, 1548')])), ('E:\\\\MouseRunner\\\\behavior\\\\Cohort_3.1\\\\Observer_Experienced\\\\024760\\\\day4_024760_serial21107835.mp4', ordereddict([('crop', '0, 2200, 0, 1548')])), ('E:\\\\MouseRunner\\\\behavior\\\\Cohort_3.2\\\\Observer_Experienced\\\\001478\\\\day2_001477+001478_serial21016426.mp4', ordereddict([('crop', '0, 1852, 0, 1300')])), ('E:\\\\MouseRunner\\\\behavior\\\\Cohort_3.2\\\\Observer_Experienced\\\\001478\\\\day2_001477+001478_serial21107835.mp4', ordereddict([('crop', '0, 1852, 0, 1300')])), ('E:\\\\MouseRunner\\\\behavior\\\\Cohort_3.2\\\\Observer_Experienced\\\\001478\\\\day3_001478_serial21107835.mp4', ordereddict([('crop', '0, 2200, 0, 1548')])), ('E:\\\\MouseRunner\\\\behavior\\\\Cohort_3.2\\\\Observer_Experienced\\\\001481\\\\day2_001480+001481_serial21016426.mp4', ordereddict([('crop', '0, 1852, 0, 1300')])), ('E:\\\\MouseRunner\\\\behavior\\\\Cohort_3.2\\\\Observer_Experienced\\\\001481\\\\day2_001480+001481_serial21107835.mp4', ordereddict([('crop', '0, 1852, 0, 1300')])), ('E:\\\\MouseRunner\\\\behavior\\\\Cohort_3.2\\\\Observer_Experienced\\\\001481\\\\day3_001481_serial21107835.mp4', ordereddict([('crop', '0, 2200, 0, 1548')])), ('E:\\\\MouseRunner\\\\behavior\\\\Cohort_3.3\\\\Observer_Experienced\\\\001482\\\\day2_024758+001482_serial21016426.mp4', ordereddict([('crop', '0, 1852, 0, 1300')])), ('E:\\\\MouseRunner\\\\behavior\\\\Cohort_3.3\\\\Observer_Experienced\\\\001482\\\\day2_024758+001482_serial21107835.mp4', ordereddict([('crop', '0, 1852, 0, 1300')])), ('E:\\\\MouseRunner\\\\behavior\\\\Cohort_3.3\\\\Observer_Experienced\\\\001482\\\\day3_001482_serial21107835.mp4', ordereddict([('crop', '0, 2200, 0, 1548')])), ('E:\\\\MouseRunner\\\\retired\\\\Cohort_3.1\\\\Demonstrator\\\\001476\\\\day3_001476_serial21107835.mp4', ordereddict([('crop', '0, 2200, 0, 1548')])), ('E:\\\\MouseRunner\\\\retired\\\\Cohort_3.1\\\\Demonstrator\\\\024750\\\\day3_024750_serial21107835.mp4', ordereddict([('crop', '0, 2200, 0, 1548')])), ('E:\\\\MouseRunner\\\\retired\\\\Cohort_3.1\\\\Demonstrator\\\\024751\\\\day3_024751_serial21107835.mp4', ordereddict([('crop', '0, 2200, 0, 1548')])), ('E:\\\\MouseRunner\\\\retired\\\\Cohort_3.1\\\\Demonstrator\\\\024753\\\\day3_024753_serial21107835.mp4', ordereddict([('crop', '0, 2200, 0, 1548')])), ('E:\\\\MouseRunner\\\\retired\\\\Cohort_3.1\\\\Demonstrator\\\\024759\\\\day3_024759_serial21107835.mp4', ordereddict([('crop', '0, 2200, 0, 1548')])), ('E:\\\\MouseRunner\\\\retired\\\\Cohort_3.2\\\\Demonstrator\\\\001477\\\\day3_001477_serial21107835.mp4', ordereddict([('crop', '0, 2200, 0, 1548')])), ('E:\\\\MouseRunner\\\\retired\\\\Cohort_3.2\\\\Demonstrator\\\\001480\\\\day3_001480_serial21107835.mp4', ordereddict([('crop', '0, 2200, 0, 1548')])), ('E:\\\\MouseRunner\\\\retired\\\\Cohort_3.3\\\\Demonstrator\\\\024758\\\\day3_024758_serial21107835.mp4', ordereddict([('crop', '0, 2200, 0, 1548')]))])), ('bodyparts', ['snout', 'left_ear', 'right_ear', 'left_eye', 'right_eye', 'left_forepaw', 'right_forepaw', 'left_hindpaw', 'right_hindpaw', 'tail_base', 'tail_tip']), ('start', 0.25), ('stop', 0.75), ('numframes2pick', 8), ('skeleton', [('snout', 'left_ear'), ('snout', 'right_ear'), ('snout', 'left_eye'), ('snout', 'right_eye'), ('snout', 'left_forepaw'), ('snout', 'right_forepaw'), ('snout', 'left_hindpaw'), ('snout', 'right_hindpaw'), ('snout', 'tail_base'), ('snout', 'tail_tip'), ('left_ear', 'right_ear'), ('left_ear', 'left_eye'), ('left_ear', 'right_eye'), ('left_ear', 'left_forepaw'), ('left_ear', 'right_forepaw'), ('left_ear', 'left_hindpaw'), ('left_ear', 'right_hindpaw'), ('left_ear', 'tail_base'), ('left_ear', 'tail_tip'), ('right_ear', 'left_eye'), ('right_ear', 'right_eye'), ('right_ear', 'left_forepaw'), ('right_ear', 'right_forepaw'), ('right_ear', 'left_hindpaw'), ('right_ear', 'right_hindpaw'), ('right_ear', 'tail_base'), ('right_ear', 'tail_tip'), ('left_eye', 'right_eye'), ('left_eye', 'left_forepaw'), ('left_eye', 'right_forepaw'), ('left_eye', 'left_hindpaw'), ('left_eye', 'right_hindpaw'), ('left_eye', 'tail_base'), ('left_eye', 'tail_tip'), ('right_eye', 'left_forepaw'), ('right_eye', 'right_forepaw'), ('right_eye', 'left_hindpaw'), ('right_eye', 'right_hindpaw'), ('right_eye', 'tail_base'), ('right_eye', 'tail_tip'), ('left_forepaw', 'right_forepaw'), ('left_forepaw', 'left_hindpaw'), ('left_forepaw', 'right_hindpaw'), ('left_forepaw', 'tail_base'), ('left_forepaw', 'tail_tip'), ('right_forepaw', 'left_hindpaw'), ('right_forepaw', 'right_hindpaw'), ('right_forepaw', 'tail_base'), ('right_forepaw', 'tail_tip'), ('left_hindpaw', 'right_hindpaw'), ('left_hindpaw', 'tail_base'), ('left_hindpaw', 'tail_tip'), ('right_hindpaw', 'tail_base'), ('right_hindpaw', 'tail_tip'), ('tail_base', 'tail_tip')]), ('skeleton_color', 'black'), ('pcutoff', 0.6), ('dotsize', 5), ('alphavalue', 0.7), ('colormap', 'cool'), ('TrainingFraction', [0.95]), ('iteration', 0), ('default_net_type', 'resnet_50'), ('default_augmenter', 'default'), ('snapshotindex', -1), ('batch_size', 8), ('cropping', False), ('x1', 0), ('x2', 640), ('y1', 277), ('y2', 624), ('corner2move2', [50, 50]), ('move2corner', True), ('individuals', ['mouse1', 'mouse2'])])"
      ]
     },
     "execution_count": 12,
     "metadata": {},
     "output_type": "execute_result"
    }
   ],
   "source": [
    "deeplabcut.auxiliaryfunctions.edit_config(config_path, edits)"
   ]
  },
  {
   "cell_type": "markdown",
   "id": "b96fb04d",
   "metadata": {},
   "source": [
    "### Print config path for later access"
   ]
  },
  {
   "cell_type": "code",
   "execution_count": 13,
   "id": "d2c64402",
   "metadata": {},
   "outputs": [
    {
     "name": "stdout",
     "output_type": "stream",
     "text": [
      "E:\\MouseRunner\\dlc-live\\dlc-live-MouseRunner-2022-03-29\\config.yaml\n"
     ]
    }
   ],
   "source": [
    "print(config_path)"
   ]
  },
  {
   "cell_type": "markdown",
   "id": "3fc8b04b",
   "metadata": {},
   "source": [
    "### Extract frames for labeling (this will take a while)"
   ]
  },
  {
   "cell_type": "code",
   "execution_count": 15,
   "id": "82a26308",
   "metadata": {
    "scrolled": true
   },
   "outputs": [
    {
     "name": "stdout",
     "output_type": "stream",
     "text": [
      "Config file read successfully.\n",
      "Extracting frames based on kmeans ...\n",
      "Kmeans-quantization based extracting of frames from 260.88  seconds to 782.65  seconds.\n",
      "Extracting and downsampling... 26089  frames from the video.\n"
     ]
    },
    {
     "name": "stderr",
     "output_type": "stream",
     "text": [
      "26089it [10:50, 40.13it/s]\n"
     ]
    },
    {
     "name": "stdout",
     "output_type": "stream",
     "text": [
      "Kmeans clustering ... (this might take a while)\n"
     ]
    },
    {
     "name": "stderr",
     "output_type": "stream",
     "text": [
      "C:\\Users\\jacobdahan\\Anaconda3\\envs\\MouseRunner\\lib\\site-packages\\sklearn\\cluster\\_kmeans.py:1043: UserWarning: MiniBatchKMeans is known to have a memory leak on Windows with MKL, when there are less chunks than available threads. You can prevent it by setting batch_size >= 8192 or by setting the environment variable OMP_NUM_THREADS=1\n",
      "  warnings.warn(\n"
     ]
    },
    {
     "name": "stdout",
     "output_type": "stream",
     "text": [
      "Extracting frames based on kmeans ...\n",
      "Kmeans-quantization based extracting of frames from 260.87  seconds to 782.61  seconds.\n",
      "Extracting and downsampling... 26088  frames from the video.\n"
     ]
    },
    {
     "name": "stderr",
     "output_type": "stream",
     "text": [
      "26088it [11:36, 37.47it/s]\n",
      "C:\\Users\\jacobdahan\\Anaconda3\\envs\\MouseRunner\\lib\\site-packages\\sklearn\\cluster\\_kmeans.py:1043: UserWarning: MiniBatchKMeans is known to have a memory leak on Windows with MKL, when there are less chunks than available threads. You can prevent it by setting batch_size >= 8192 or by setting the environment variable OMP_NUM_THREADS=1\n",
      "  warnings.warn(\n"
     ]
    },
    {
     "name": "stdout",
     "output_type": "stream",
     "text": [
      "Kmeans clustering ... (this might take a while)\n",
      "Extracting frames based on kmeans ...\n",
      "Kmeans-quantization based extracting of frames from 542.11  seconds to 1626.32  seconds.\n",
      "Extracting and downsampling... 54211  frames from the video.\n"
     ]
    },
    {
     "name": "stderr",
     "output_type": "stream",
     "text": [
      "54211it [35:24, 25.51it/s]\n"
     ]
    },
    {
     "name": "stdout",
     "output_type": "stream",
     "text": [
      "Kmeans clustering ... (this might take a while)\n"
     ]
    },
    {
     "name": "stderr",
     "output_type": "stream",
     "text": [
      "C:\\Users\\jacobdahan\\Anaconda3\\envs\\MouseRunner\\lib\\site-packages\\sklearn\\cluster\\_kmeans.py:1043: UserWarning: MiniBatchKMeans is known to have a memory leak on Windows with MKL, when there are less chunks than available threads. You can prevent it by setting batch_size >= 8192 or by setting the environment variable OMP_NUM_THREADS=1\n",
      "  warnings.warn(\n"
     ]
    },
    {
     "name": "stdout",
     "output_type": "stream",
     "text": [
      "Extracting frames based on kmeans ...\n",
      "Kmeans-quantization based extracting of frames from 358.95  seconds to 1076.85  seconds.\n",
      "Extracting and downsampling... 35896  frames from the video.\n"
     ]
    },
    {
     "name": "stderr",
     "output_type": "stream",
     "text": [
      "35896it [22:59, 26.03it/s]\n"
     ]
    },
    {
     "name": "stdout",
     "output_type": "stream",
     "text": [
      "Kmeans clustering ... (this might take a while)\n"
     ]
    },
    {
     "name": "stderr",
     "output_type": "stream",
     "text": [
      "C:\\Users\\jacobdahan\\Anaconda3\\envs\\MouseRunner\\lib\\site-packages\\sklearn\\cluster\\_kmeans.py:1043: UserWarning: MiniBatchKMeans is known to have a memory leak on Windows with MKL, when there are less chunks than available threads. You can prevent it by setting batch_size >= 8192 or by setting the environment variable OMP_NUM_THREADS=1\n",
      "  warnings.warn(\n"
     ]
    },
    {
     "name": "stdout",
     "output_type": "stream",
     "text": [
      "Extracting frames based on kmeans ...\n",
      "Kmeans-quantization based extracting of frames from 279.57  seconds to 838.71  seconds.\n",
      "Extracting and downsampling... 27958  frames from the video.\n"
     ]
    },
    {
     "name": "stderr",
     "output_type": "stream",
     "text": [
      "27958it [12:44, 36.58it/s]\n",
      "C:\\Users\\jacobdahan\\Anaconda3\\envs\\MouseRunner\\lib\\site-packages\\sklearn\\cluster\\_kmeans.py:1043: UserWarning: MiniBatchKMeans is known to have a memory leak on Windows with MKL, when there are less chunks than available threads. You can prevent it by setting batch_size >= 8192 or by setting the environment variable OMP_NUM_THREADS=1\n",
      "  warnings.warn(\n"
     ]
    },
    {
     "name": "stdout",
     "output_type": "stream",
     "text": [
      "Kmeans clustering ... (this might take a while)\n",
      "Extracting frames based on kmeans ...\n",
      "Kmeans-quantization based extracting of frames from 279.56  seconds to 838.66  seconds.\n",
      "Extracting and downsampling... 27957  frames from the video.\n"
     ]
    },
    {
     "name": "stderr",
     "output_type": "stream",
     "text": [
      "27957it [13:01, 35.79it/s]\n",
      "C:\\Users\\jacobdahan\\Anaconda3\\envs\\MouseRunner\\lib\\site-packages\\sklearn\\cluster\\_kmeans.py:1043: UserWarning: MiniBatchKMeans is known to have a memory leak on Windows with MKL, when there are less chunks than available threads. You can prevent it by setting batch_size >= 8192 or by setting the environment variable OMP_NUM_THREADS=1\n",
      "  warnings.warn(\n"
     ]
    },
    {
     "name": "stdout",
     "output_type": "stream",
     "text": [
      "Kmeans clustering ... (this might take a while)\n",
      "Extracting frames based on kmeans ...\n",
      "Kmeans-quantization based extracting of frames from 526.92  seconds to 1580.76  seconds.\n",
      "Extracting and downsampling... 52692  frames from the video.\n"
     ]
    },
    {
     "name": "stderr",
     "output_type": "stream",
     "text": [
      "52692it [33:55, 25.89it/s]\n"
     ]
    },
    {
     "name": "stdout",
     "output_type": "stream",
     "text": [
      "Kmeans clustering ... (this might take a while)\n"
     ]
    },
    {
     "name": "stderr",
     "output_type": "stream",
     "text": [
      "C:\\Users\\jacobdahan\\Anaconda3\\envs\\MouseRunner\\lib\\site-packages\\sklearn\\cluster\\_kmeans.py:1043: UserWarning: MiniBatchKMeans is known to have a memory leak on Windows with MKL, when there are less chunks than available threads. You can prevent it by setting batch_size >= 8192 or by setting the environment variable OMP_NUM_THREADS=1\n",
      "  warnings.warn(\n"
     ]
    },
    {
     "name": "stdout",
     "output_type": "stream",
     "text": [
      "Extracting frames based on kmeans ...\n",
      "Kmeans-quantization based extracting of frames from 358.96  seconds to 1076.89  seconds.\n",
      "Extracting and downsampling... 35897  frames from the video.\n"
     ]
    },
    {
     "name": "stderr",
     "output_type": "stream",
     "text": [
      "35897it [20:55, 28.59it/s]\n"
     ]
    },
    {
     "name": "stdout",
     "output_type": "stream",
     "text": [
      "Kmeans clustering ... (this might take a while)\n"
     ]
    },
    {
     "name": "stderr",
     "output_type": "stream",
     "text": [
      "C:\\Users\\jacobdahan\\Anaconda3\\envs\\MouseRunner\\lib\\site-packages\\sklearn\\cluster\\_kmeans.py:1043: UserWarning: MiniBatchKMeans is known to have a memory leak on Windows with MKL, when there are less chunks than available threads. You can prevent it by setting batch_size >= 8192 or by setting the environment variable OMP_NUM_THREADS=1\n",
      "  warnings.warn(\n"
     ]
    },
    {
     "name": "stdout",
     "output_type": "stream",
     "text": [
      "Extracting frames based on kmeans ...\n",
      "Kmeans-quantization based extracting of frames from 280.65  seconds to 841.95  seconds.\n",
      "Extracting and downsampling... 28066  frames from the video.\n"
     ]
    },
    {
     "name": "stderr",
     "output_type": "stream",
     "text": [
      "28066it [12:49, 36.47it/s]\n"
     ]
    },
    {
     "name": "stdout",
     "output_type": "stream",
     "text": [
      "Kmeans clustering ... (this might take a while)\n"
     ]
    },
    {
     "name": "stderr",
     "output_type": "stream",
     "text": [
      "C:\\Users\\jacobdahan\\Anaconda3\\envs\\MouseRunner\\lib\\site-packages\\sklearn\\cluster\\_kmeans.py:1043: UserWarning: MiniBatchKMeans is known to have a memory leak on Windows with MKL, when there are less chunks than available threads. You can prevent it by setting batch_size >= 8192 or by setting the environment variable OMP_NUM_THREADS=1\n",
      "  warnings.warn(\n"
     ]
    },
    {
     "name": "stdout",
     "output_type": "stream",
     "text": [
      "Extracting frames based on kmeans ...\n",
      "Kmeans-quantization based extracting of frames from 280.63  seconds to 841.9  seconds.\n",
      "Extracting and downsampling... 28065  frames from the video.\n"
     ]
    },
    {
     "name": "stderr",
     "output_type": "stream",
     "text": [
      "28065it [12:46, 36.62it/s]\n"
     ]
    },
    {
     "name": "stdout",
     "output_type": "stream",
     "text": [
      "Kmeans clustering ... (this might take a while)\n"
     ]
    },
    {
     "name": "stderr",
     "output_type": "stream",
     "text": [
      "C:\\Users\\jacobdahan\\Anaconda3\\envs\\MouseRunner\\lib\\site-packages\\sklearn\\cluster\\_kmeans.py:1043: UserWarning: MiniBatchKMeans is known to have a memory leak on Windows with MKL, when there are less chunks than available threads. You can prevent it by setting batch_size >= 8192 or by setting the environment variable OMP_NUM_THREADS=1\n",
      "  warnings.warn(\n"
     ]
    },
    {
     "name": "stdout",
     "output_type": "stream",
     "text": [
      "Extracting frames based on kmeans ...\n",
      "Kmeans-quantization based extracting of frames from 528.78  seconds to 1586.34  seconds.\n",
      "Extracting and downsampling... 52878  frames from the video.\n"
     ]
    },
    {
     "name": "stderr",
     "output_type": "stream",
     "text": [
      "52878it [33:47, 26.07it/s]\n"
     ]
    },
    {
     "name": "stdout",
     "output_type": "stream",
     "text": [
      "Kmeans clustering ... (this might take a while)\n"
     ]
    },
    {
     "name": "stderr",
     "output_type": "stream",
     "text": [
      "C:\\Users\\jacobdahan\\Anaconda3\\envs\\MouseRunner\\lib\\site-packages\\sklearn\\cluster\\_kmeans.py:1043: UserWarning: MiniBatchKMeans is known to have a memory leak on Windows with MKL, when there are less chunks than available threads. You can prevent it by setting batch_size >= 8192 or by setting the environment variable OMP_NUM_THREADS=1\n",
      "  warnings.warn(\n"
     ]
    },
    {
     "name": "stdout",
     "output_type": "stream",
     "text": [
      "Extracting frames based on kmeans ...\n",
      "Kmeans-quantization based extracting of frames from 358.98  seconds to 1076.94  seconds.\n",
      "Extracting and downsampling... 35898  frames from the video.\n"
     ]
    },
    {
     "name": "stderr",
     "output_type": "stream",
     "text": [
      "35898it [23:04, 25.92it/s]\n"
     ]
    },
    {
     "name": "stdout",
     "output_type": "stream",
     "text": [
      "Kmeans clustering ... (this might take a while)\n"
     ]
    },
    {
     "name": "stderr",
     "output_type": "stream",
     "text": [
      "C:\\Users\\jacobdahan\\Anaconda3\\envs\\MouseRunner\\lib\\site-packages\\sklearn\\cluster\\_kmeans.py:1043: UserWarning: MiniBatchKMeans is known to have a memory leak on Windows with MKL, when there are less chunks than available threads. You can prevent it by setting batch_size >= 8192 or by setting the environment variable OMP_NUM_THREADS=1\n",
      "  warnings.warn(\n"
     ]
    },
    {
     "name": "stdout",
     "output_type": "stream",
     "text": [
      "Extracting frames based on kmeans ...\n",
      "Kmeans-quantization based extracting of frames from 293.42  seconds to 880.25  seconds.\n",
      "Extracting and downsampling... 29343  frames from the video.\n"
     ]
    },
    {
     "name": "stderr",
     "output_type": "stream",
     "text": [
      "29343it [13:19, 36.70it/s]\n"
     ]
    },
    {
     "name": "stdout",
     "output_type": "stream",
     "text": [
      "Kmeans clustering ... (this might take a while)\n"
     ]
    },
    {
     "name": "stderr",
     "output_type": "stream",
     "text": [
      "C:\\Users\\jacobdahan\\Anaconda3\\envs\\MouseRunner\\lib\\site-packages\\sklearn\\cluster\\_kmeans.py:1043: UserWarning: MiniBatchKMeans is known to have a memory leak on Windows with MKL, when there are less chunks than available threads. You can prevent it by setting batch_size >= 8192 or by setting the environment variable OMP_NUM_THREADS=1\n",
      "  warnings.warn(\n"
     ]
    },
    {
     "name": "stdout",
     "output_type": "stream",
     "text": [
      "Extracting frames based on kmeans ...\n",
      "Kmeans-quantization based extracting of frames from 293.4  seconds to 880.2  seconds.\n",
      "Extracting and downsampling... 29340  frames from the video.\n"
     ]
    },
    {
     "name": "stderr",
     "output_type": "stream",
     "text": [
      "29340it [13:22, 36.56it/s]\n"
     ]
    },
    {
     "name": "stdout",
     "output_type": "stream",
     "text": [
      "Kmeans clustering ... (this might take a while)\n"
     ]
    },
    {
     "name": "stderr",
     "output_type": "stream",
     "text": [
      "C:\\Users\\jacobdahan\\Anaconda3\\envs\\MouseRunner\\lib\\site-packages\\sklearn\\cluster\\_kmeans.py:1043: UserWarning: MiniBatchKMeans is known to have a memory leak on Windows with MKL, when there are less chunks than available threads. You can prevent it by setting batch_size >= 8192 or by setting the environment variable OMP_NUM_THREADS=1\n",
      "  warnings.warn(\n"
     ]
    },
    {
     "name": "stdout",
     "output_type": "stream",
     "text": [
      "Extracting frames based on kmeans ...\n",
      "Kmeans-quantization based extracting of frames from 525.01  seconds to 1575.03  seconds.\n",
      "Extracting and downsampling... 52502  frames from the video.\n"
     ]
    },
    {
     "name": "stderr",
     "output_type": "stream",
     "text": [
      "52502it [33:44, 25.94it/s]\n"
     ]
    },
    {
     "name": "stdout",
     "output_type": "stream",
     "text": [
      "Kmeans clustering ... (this might take a while)\n"
     ]
    },
    {
     "name": "stderr",
     "output_type": "stream",
     "text": [
      "C:\\Users\\jacobdahan\\Anaconda3\\envs\\MouseRunner\\lib\\site-packages\\sklearn\\cluster\\_kmeans.py:1043: UserWarning: MiniBatchKMeans is known to have a memory leak on Windows with MKL, when there are less chunks than available threads. You can prevent it by setting batch_size >= 8192 or by setting the environment variable OMP_NUM_THREADS=1\n",
      "  warnings.warn(\n"
     ]
    },
    {
     "name": "stdout",
     "output_type": "stream",
     "text": [
      "Extracting frames based on kmeans ...\n",
      "Kmeans-quantization based extracting of frames from 358.96  seconds to 1076.89  seconds.\n",
      "Extracting and downsampling... 35897  frames from the video.\n"
     ]
    },
    {
     "name": "stderr",
     "output_type": "stream",
     "text": [
      "35897it [20:51, 28.68it/s]\n"
     ]
    },
    {
     "name": "stdout",
     "output_type": "stream",
     "text": [
      "Kmeans clustering ... (this might take a while)\n"
     ]
    },
    {
     "name": "stderr",
     "output_type": "stream",
     "text": [
      "C:\\Users\\jacobdahan\\Anaconda3\\envs\\MouseRunner\\lib\\site-packages\\sklearn\\cluster\\_kmeans.py:1043: UserWarning: MiniBatchKMeans is known to have a memory leak on Windows with MKL, when there are less chunks than available threads. You can prevent it by setting batch_size >= 8192 or by setting the environment variable OMP_NUM_THREADS=1\n",
      "  warnings.warn(\n"
     ]
    },
    {
     "name": "stdout",
     "output_type": "stream",
     "text": [
      "Extracting frames based on kmeans ...\n",
      "Kmeans-quantization based extracting of frames from 376.63  seconds to 1129.89  seconds.\n",
      "Extracting and downsampling... 37664  frames from the video.\n"
     ]
    },
    {
     "name": "stderr",
     "output_type": "stream",
     "text": [
      "37664it [17:08, 36.62it/s]\n"
     ]
    },
    {
     "name": "stdout",
     "output_type": "stream",
     "text": [
      "Kmeans clustering ... (this might take a while)\n"
     ]
    },
    {
     "name": "stderr",
     "output_type": "stream",
     "text": [
      "C:\\Users\\jacobdahan\\Anaconda3\\envs\\MouseRunner\\lib\\site-packages\\sklearn\\cluster\\_kmeans.py:1043: UserWarning: MiniBatchKMeans is known to have a memory leak on Windows with MKL, when there are less chunks than available threads. You can prevent it by setting batch_size >= 8192 or by setting the environment variable OMP_NUM_THREADS=1\n",
      "  warnings.warn(\n"
     ]
    },
    {
     "name": "stdout",
     "output_type": "stream",
     "text": [
      "Extracting frames based on kmeans ...\n",
      "Kmeans-quantization based extracting of frames from 376.62  seconds to 1129.86  seconds.\n",
      "Extracting and downsampling... 37662  frames from the video.\n"
     ]
    },
    {
     "name": "stderr",
     "output_type": "stream",
     "text": [
      "37662it [17:37, 35.62it/s]\n"
     ]
    },
    {
     "name": "stdout",
     "output_type": "stream",
     "text": [
      "Kmeans clustering ... (this might take a while)\n"
     ]
    },
    {
     "name": "stderr",
     "output_type": "stream",
     "text": [
      "C:\\Users\\jacobdahan\\Anaconda3\\envs\\MouseRunner\\lib\\site-packages\\sklearn\\cluster\\_kmeans.py:1043: UserWarning: MiniBatchKMeans is known to have a memory leak on Windows with MKL, when there are less chunks than available threads. You can prevent it by setting batch_size >= 8192 or by setting the environment variable OMP_NUM_THREADS=1\n",
      "  warnings.warn(\n"
     ]
    },
    {
     "name": "stdout",
     "output_type": "stream",
     "text": [
      "Extracting frames based on kmeans ...\n",
      "Kmeans-quantization based extracting of frames from 524.8  seconds to 1574.41  seconds.\n",
      "Extracting and downsampling... 52481  frames from the video.\n"
     ]
    },
    {
     "name": "stderr",
     "output_type": "stream",
     "text": [
      "52481it [33:43, 25.93it/s]\n"
     ]
    },
    {
     "name": "stdout",
     "output_type": "stream",
     "text": [
      "Kmeans clustering ... (this might take a while)\n"
     ]
    },
    {
     "name": "stderr",
     "output_type": "stream",
     "text": [
      "C:\\Users\\jacobdahan\\Anaconda3\\envs\\MouseRunner\\lib\\site-packages\\sklearn\\cluster\\_kmeans.py:1043: UserWarning: MiniBatchKMeans is known to have a memory leak on Windows with MKL, when there are less chunks than available threads. You can prevent it by setting batch_size >= 8192 or by setting the environment variable OMP_NUM_THREADS=1\n",
      "  warnings.warn(\n"
     ]
    },
    {
     "name": "stdout",
     "output_type": "stream",
     "text": [
      "Extracting frames based on kmeans ...\n",
      "Kmeans-quantization based extracting of frames from 387.12  seconds to 1161.36  seconds.\n",
      "Extracting and downsampling... 38712  frames from the video.\n"
     ]
    },
    {
     "name": "stderr",
     "output_type": "stream",
     "text": [
      "38712it [17:40, 36.51it/s]\n"
     ]
    },
    {
     "name": "stdout",
     "output_type": "stream",
     "text": [
      "Kmeans clustering ... (this might take a while)\n"
     ]
    },
    {
     "name": "stderr",
     "output_type": "stream",
     "text": [
      "C:\\Users\\jacobdahan\\Anaconda3\\envs\\MouseRunner\\lib\\site-packages\\sklearn\\cluster\\_kmeans.py:1043: UserWarning: MiniBatchKMeans is known to have a memory leak on Windows with MKL, when there are less chunks than available threads. You can prevent it by setting batch_size >= 8192 or by setting the environment variable OMP_NUM_THREADS=1\n",
      "  warnings.warn(\n"
     ]
    },
    {
     "name": "stdout",
     "output_type": "stream",
     "text": [
      "Extracting frames based on kmeans ...\n",
      "Kmeans-quantization based extracting of frames from 387.1  seconds to 1161.3  seconds.\n",
      "Extracting and downsampling... 38710  frames from the video.\n"
     ]
    },
    {
     "name": "stderr",
     "output_type": "stream",
     "text": [
      "38710it [17:47, 36.26it/s]\n"
     ]
    },
    {
     "name": "stdout",
     "output_type": "stream",
     "text": [
      "Kmeans clustering ... (this might take a while)\n"
     ]
    },
    {
     "name": "stderr",
     "output_type": "stream",
     "text": [
      "C:\\Users\\jacobdahan\\Anaconda3\\envs\\MouseRunner\\lib\\site-packages\\sklearn\\cluster\\_kmeans.py:1043: UserWarning: MiniBatchKMeans is known to have a memory leak on Windows with MKL, when there are less chunks than available threads. You can prevent it by setting batch_size >= 8192 or by setting the environment variable OMP_NUM_THREADS=1\n",
      "  warnings.warn(\n"
     ]
    },
    {
     "name": "stdout",
     "output_type": "stream",
     "text": [
      "Extracting frames based on kmeans ...\n",
      "Kmeans-quantization based extracting of frames from 519.38  seconds to 1558.14  seconds.\n",
      "Extracting and downsampling... 51938  frames from the video.\n"
     ]
    },
    {
     "name": "stderr",
     "output_type": "stream",
     "text": [
      "51938it [34:11, 25.32it/s]\n"
     ]
    },
    {
     "name": "stdout",
     "output_type": "stream",
     "text": [
      "Kmeans clustering ... (this might take a while)\n"
     ]
    },
    {
     "name": "stderr",
     "output_type": "stream",
     "text": [
      "C:\\Users\\jacobdahan\\Anaconda3\\envs\\MouseRunner\\lib\\site-packages\\sklearn\\cluster\\_kmeans.py:1043: UserWarning: MiniBatchKMeans is known to have a memory leak on Windows with MKL, when there are less chunks than available threads. You can prevent it by setting batch_size >= 8192 or by setting the environment variable OMP_NUM_THREADS=1\n",
      "  warnings.warn(\n"
     ]
    },
    {
     "name": "stdout",
     "output_type": "stream",
     "text": [
      "Extracting frames based on kmeans ...\n",
      "Kmeans-quantization based extracting of frames from 364.07  seconds to 1092.21  seconds.\n",
      "Extracting and downsampling... 36408  frames from the video.\n"
     ]
    },
    {
     "name": "stderr",
     "output_type": "stream",
     "text": [
      "36408it [16:50, 36.04it/s]\n"
     ]
    },
    {
     "name": "stdout",
     "output_type": "stream",
     "text": [
      "Kmeans clustering ... (this might take a while)\n"
     ]
    },
    {
     "name": "stderr",
     "output_type": "stream",
     "text": [
      "C:\\Users\\jacobdahan\\Anaconda3\\envs\\MouseRunner\\lib\\site-packages\\sklearn\\cluster\\_kmeans.py:1043: UserWarning: MiniBatchKMeans is known to have a memory leak on Windows with MKL, when there are less chunks than available threads. You can prevent it by setting batch_size >= 8192 or by setting the environment variable OMP_NUM_THREADS=1\n",
      "  warnings.warn(\n"
     ]
    },
    {
     "name": "stdout",
     "output_type": "stream",
     "text": [
      "Extracting frames based on kmeans ...\n",
      "Kmeans-quantization based extracting of frames from 364.05  seconds to 1092.15  seconds.\n",
      "Extracting and downsampling... 36406  frames from the video.\n"
     ]
    },
    {
     "name": "stderr",
     "output_type": "stream",
     "text": [
      "36406it [16:48, 36.10it/s]\n"
     ]
    },
    {
     "name": "stdout",
     "output_type": "stream",
     "text": [
      "Kmeans clustering ... (this might take a while)\n"
     ]
    },
    {
     "name": "stderr",
     "output_type": "stream",
     "text": [
      "C:\\Users\\jacobdahan\\Anaconda3\\envs\\MouseRunner\\lib\\site-packages\\sklearn\\cluster\\_kmeans.py:1043: UserWarning: MiniBatchKMeans is known to have a memory leak on Windows with MKL, when there are less chunks than available threads. You can prevent it by setting batch_size >= 8192 or by setting the environment variable OMP_NUM_THREADS=1\n",
      "  warnings.warn(\n"
     ]
    },
    {
     "name": "stdout",
     "output_type": "stream",
     "text": [
      "Extracting frames based on kmeans ...\n",
      "Kmeans-quantization based extracting of frames from 499.5  seconds to 1498.48  seconds.\n",
      "Extracting and downsampling... 49951  frames from the video.\n"
     ]
    },
    {
     "name": "stderr",
     "output_type": "stream",
     "text": [
      "49951it [32:18, 25.76it/s]\n"
     ]
    },
    {
     "name": "stdout",
     "output_type": "stream",
     "text": [
      "Kmeans clustering ... (this might take a while)\n"
     ]
    },
    {
     "name": "stderr",
     "output_type": "stream",
     "text": [
      "C:\\Users\\jacobdahan\\Anaconda3\\envs\\MouseRunner\\lib\\site-packages\\sklearn\\cluster\\_kmeans.py:1043: UserWarning: MiniBatchKMeans is known to have a memory leak on Windows with MKL, when there are less chunks than available threads. You can prevent it by setting batch_size >= 8192 or by setting the environment variable OMP_NUM_THREADS=1\n",
      "  warnings.warn(\n"
     ]
    },
    {
     "name": "stdout",
     "output_type": "stream",
     "text": [
      "Extracting frames based on kmeans ...\n",
      "Kmeans-quantization based extracting of frames from 532.05  seconds to 1596.16  seconds.\n",
      "Extracting and downsampling... 53207  frames from the video.\n"
     ]
    },
    {
     "name": "stderr",
     "output_type": "stream",
     "text": [
      "53207it [34:11, 25.93it/s]\n"
     ]
    },
    {
     "name": "stdout",
     "output_type": "stream",
     "text": [
      "Kmeans clustering ... (this might take a while)\n"
     ]
    },
    {
     "name": "stderr",
     "output_type": "stream",
     "text": [
      "C:\\Users\\jacobdahan\\Anaconda3\\envs\\MouseRunner\\lib\\site-packages\\sklearn\\cluster\\_kmeans.py:1043: UserWarning: MiniBatchKMeans is known to have a memory leak on Windows with MKL, when there are less chunks than available threads. You can prevent it by setting batch_size >= 8192 or by setting the environment variable OMP_NUM_THREADS=1\n",
      "  warnings.warn(\n"
     ]
    },
    {
     "name": "stdout",
     "output_type": "stream",
     "text": [
      "Extracting frames based on kmeans ...\n",
      "Kmeans-quantization based extracting of frames from 512.46  seconds to 1537.37  seconds.\n",
      "Extracting and downsampling... 51247  frames from the video.\n"
     ]
    },
    {
     "name": "stderr",
     "output_type": "stream",
     "text": [
      "51247it [33:59, 25.13it/s]\n"
     ]
    },
    {
     "name": "stdout",
     "output_type": "stream",
     "text": [
      "Kmeans clustering ... (this might take a while)\n"
     ]
    },
    {
     "name": "stderr",
     "output_type": "stream",
     "text": [
      "C:\\Users\\jacobdahan\\Anaconda3\\envs\\MouseRunner\\lib\\site-packages\\sklearn\\cluster\\_kmeans.py:1043: UserWarning: MiniBatchKMeans is known to have a memory leak on Windows with MKL, when there are less chunks than available threads. You can prevent it by setting batch_size >= 8192 or by setting the environment variable OMP_NUM_THREADS=1\n",
      "  warnings.warn(\n"
     ]
    },
    {
     "name": "stdout",
     "output_type": "stream",
     "text": [
      "Extracting frames based on kmeans ...\n",
      "Kmeans-quantization based extracting of frames from 513.45  seconds to 1540.34  seconds.\n",
      "Extracting and downsampling... 51345  frames from the video.\n"
     ]
    },
    {
     "name": "stderr",
     "output_type": "stream",
     "text": [
      "51345it [34:25, 24.85it/s]\n"
     ]
    },
    {
     "name": "stdout",
     "output_type": "stream",
     "text": [
      "Kmeans clustering ... (this might take a while)\n"
     ]
    },
    {
     "name": "stderr",
     "output_type": "stream",
     "text": [
      "C:\\Users\\jacobdahan\\Anaconda3\\envs\\MouseRunner\\lib\\site-packages\\sklearn\\cluster\\_kmeans.py:1043: UserWarning: MiniBatchKMeans is known to have a memory leak on Windows with MKL, when there are less chunks than available threads. You can prevent it by setting batch_size >= 8192 or by setting the environment variable OMP_NUM_THREADS=1\n",
      "  warnings.warn(\n"
     ]
    },
    {
     "name": "stdout",
     "output_type": "stream",
     "text": [
      "Extracting frames based on kmeans ...\n",
      "Kmeans-quantization based extracting of frames from 518.91  seconds to 1556.73  seconds.\n",
      "Extracting and downsampling... 51892  frames from the video.\n"
     ]
    },
    {
     "name": "stderr",
     "output_type": "stream",
     "text": [
      "51892it [34:01, 25.42it/s]\n"
     ]
    },
    {
     "name": "stdout",
     "output_type": "stream",
     "text": [
      "Kmeans clustering ... (this might take a while)\n"
     ]
    },
    {
     "name": "stderr",
     "output_type": "stream",
     "text": [
      "C:\\Users\\jacobdahan\\Anaconda3\\envs\\MouseRunner\\lib\\site-packages\\sklearn\\cluster\\_kmeans.py:1043: UserWarning: MiniBatchKMeans is known to have a memory leak on Windows with MKL, when there are less chunks than available threads. You can prevent it by setting batch_size >= 8192 or by setting the environment variable OMP_NUM_THREADS=1\n",
      "  warnings.warn(\n"
     ]
    },
    {
     "name": "stdout",
     "output_type": "stream",
     "text": [
      "Extracting frames based on kmeans ...\n",
      "Kmeans-quantization based extracting of frames from 544.41  seconds to 1633.23  seconds.\n",
      "Extracting and downsampling... 54442  frames from the video.\n"
     ]
    },
    {
     "name": "stderr",
     "output_type": "stream",
     "text": [
      "54442it [36:19, 24.98it/s]\n"
     ]
    },
    {
     "name": "stdout",
     "output_type": "stream",
     "text": [
      "Kmeans clustering ... (this might take a while)\n"
     ]
    },
    {
     "name": "stderr",
     "output_type": "stream",
     "text": [
      "C:\\Users\\jacobdahan\\Anaconda3\\envs\\MouseRunner\\lib\\site-packages\\sklearn\\cluster\\_kmeans.py:1043: UserWarning: MiniBatchKMeans is known to have a memory leak on Windows with MKL, when there are less chunks than available threads. You can prevent it by setting batch_size >= 8192 or by setting the environment variable OMP_NUM_THREADS=1\n",
      "  warnings.warn(\n"
     ]
    },
    {
     "name": "stdout",
     "output_type": "stream",
     "text": [
      "Extracting frames based on kmeans ...\n",
      "Kmeans-quantization based extracting of frames from 535.58  seconds to 1606.74  seconds.\n",
      "Extracting and downsampling... 53558  frames from the video.\n"
     ]
    },
    {
     "name": "stderr",
     "output_type": "stream",
     "text": [
      "53558it [35:33, 25.10it/s]\n"
     ]
    },
    {
     "name": "stdout",
     "output_type": "stream",
     "text": [
      "Kmeans clustering ... (this might take a while)\n"
     ]
    },
    {
     "name": "stderr",
     "output_type": "stream",
     "text": [
      "C:\\Users\\jacobdahan\\Anaconda3\\envs\\MouseRunner\\lib\\site-packages\\sklearn\\cluster\\_kmeans.py:1043: UserWarning: MiniBatchKMeans is known to have a memory leak on Windows with MKL, when there are less chunks than available threads. You can prevent it by setting batch_size >= 8192 or by setting the environment variable OMP_NUM_THREADS=1\n",
      "  warnings.warn(\n"
     ]
    },
    {
     "name": "stdout",
     "output_type": "stream",
     "text": [
      "Extracting frames based on kmeans ...\n",
      "Kmeans-quantization based extracting of frames from 519.86  seconds to 1559.58  seconds.\n",
      "Extracting and downsampling... 51986  frames from the video.\n"
     ]
    },
    {
     "name": "stderr",
     "output_type": "stream",
     "text": [
      "51986it [34:01, 25.47it/s]\n"
     ]
    },
    {
     "name": "stdout",
     "output_type": "stream",
     "text": [
      "Kmeans clustering ... (this might take a while)\n"
     ]
    },
    {
     "name": "stderr",
     "output_type": "stream",
     "text": [
      "C:\\Users\\jacobdahan\\Anaconda3\\envs\\MouseRunner\\lib\\site-packages\\sklearn\\cluster\\_kmeans.py:1043: UserWarning: MiniBatchKMeans is known to have a memory leak on Windows with MKL, when there are less chunks than available threads. You can prevent it by setting batch_size >= 8192 or by setting the environment variable OMP_NUM_THREADS=1\n",
      "  warnings.warn(\n"
     ]
    },
    {
     "name": "stdout",
     "output_type": "stream",
     "text": [
      "Extracting frames based on kmeans ...\n",
      "Kmeans-quantization based extracting of frames from 527.04  seconds to 1581.13  seconds.\n",
      "Extracting and downsampling... 52705  frames from the video.\n"
     ]
    },
    {
     "name": "stderr",
     "output_type": "stream",
     "text": [
      "52705it [34:38, 25.36it/s]\n"
     ]
    },
    {
     "name": "stdout",
     "output_type": "stream",
     "text": [
      "Kmeans clustering ... (this might take a while)\n"
     ]
    },
    {
     "name": "stderr",
     "output_type": "stream",
     "text": [
      "C:\\Users\\jacobdahan\\Anaconda3\\envs\\MouseRunner\\lib\\site-packages\\sklearn\\cluster\\_kmeans.py:1043: UserWarning: MiniBatchKMeans is known to have a memory leak on Windows with MKL, when there are less chunks than available threads. You can prevent it by setting batch_size >= 8192 or by setting the environment variable OMP_NUM_THREADS=1\n",
      "  warnings.warn(\n"
     ]
    },
    {
     "name": "stdout",
     "output_type": "stream",
     "text": [
      "Frames were successfully extracted, for the videos listed in the config.yaml file.\n",
      "\n",
      "You can now label the frames using the function 'label_frames' (Note, you should label frames extracted from diverse videos (and many videos; we do not recommend training on single videos!)).\n"
     ]
    }
   ],
   "source": [
    "deeplabcut.extract_frames(config_path, mode='automatic', algo='kmeans', userfeedback=False, crop=True)"
   ]
  },
  {
   "cell_type": "markdown",
   "id": "029c3d63",
   "metadata": {},
   "source": [
    "### Label frames (manual)"
   ]
  },
  {
   "cell_type": "code",
   "execution_count": null,
   "id": "be14c961",
   "metadata": {},
   "outputs": [
    {
     "name": "stdout",
     "output_type": "stream",
     "text": [
      "You can now check the labels, using 'check_labels' before proceeding. Then,  you can use the function 'create_training_dataset' to create the training dataset.\n"
     ]
    }
   ],
   "source": [
    "deeplabcut.label_frames(config_path)"
   ]
  },
  {
   "cell_type": "code",
   "execution_count": null,
   "id": "48f9a988",
   "metadata": {},
   "outputs": [],
   "source": [
    "E:\\Experiments\\dlc\\dlc_live-mouse_runner-2022-02-16\\config.yaml"
   ]
  }
 ],
 "metadata": {
  "kernelspec": {
   "display_name": "MouseRunner",
   "language": "python",
   "name": "mouserunner"
  },
  "language_info": {
   "codemirror_mode": {
    "name": "ipython",
    "version": 3
   },
   "file_extension": ".py",
   "mimetype": "text/x-python",
   "name": "python",
   "nbconvert_exporter": "python",
   "pygments_lexer": "ipython3",
   "version": "3.8.12"
  }
 },
 "nbformat": 4,
 "nbformat_minor": 5
}
