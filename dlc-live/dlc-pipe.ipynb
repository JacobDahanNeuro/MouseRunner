{
 "cells": [
  {
   "cell_type": "markdown",
   "id": "f844dd82",
   "metadata": {},
   "source": [
    "# DLC pipeline for online video analysis"
   ]
  },
  {
   "cell_type": "code",
   "execution_count": 1,
   "id": "ccfe06b9",
   "metadata": {},
   "outputs": [],
   "source": [
    "import itertools\n",
    "import deeplabcut"
   ]
  },
  {
   "cell_type": "markdown",
   "id": "4214a0f5",
   "metadata": {},
   "source": [
    "### Variable definitions"
   ]
  },
  {
   "cell_type": "code",
   "execution_count": 2,
   "id": "ceffc35d",
   "metadata": {},
   "outputs": [],
   "source": [
    "project_name = 'dlc_live'"
   ]
  },
  {
   "cell_type": "code",
   "execution_count": 3,
   "id": "1559d212",
   "metadata": {},
   "outputs": [],
   "source": [
    "experimenter = 'mouse_runner'"
   ]
  },
  {
   "cell_type": "code",
   "execution_count": 4,
   "id": "f62a4aa4",
   "metadata": {},
   "outputs": [],
   "source": [
    "working_directory = r\"E:\\Experiments\\dlc\""
   ]
  },
  {
   "cell_type": "code",
   "execution_count": 5,
   "id": "1a5a0931",
   "metadata": {},
   "outputs": [],
   "source": [
    "unused_videos = [r\"E:\\Experiments\\retired\\Cohort_1.1\\Observer_Experienced\\024610\\day2-024610.mp4\",\n",
    "                 r\"E:\\Experiments\\retired\\Cohort_1.1\\Observer_Experienced\\024610\\day3-10292021180011-0000.avi\",\n",
    "                 r\"E:\\Experiments\\retired\\Cohort_1.1\\Observer_Experienced\\024654\\day2-024654.mp4\",\n",
    "                 r\"E:\\Experiments\\retired\\Cohort_1.1\\Observer_Experienced\\024654\\day3-10292021172903-0000.avi\",\n",
    "                 r\"E:\\Experiments\\retired\\Cohort_1.1\\Observer_Experienced\\024656\\day2-10282021124908-0000.avi\",\n",
    "                 r\"E:\\Experiments\\retired\\Cohort_1.1\\Observer_Experienced\\024656\\day3-10292021143635-0000.avi\",\n",
    "                 r\"E:\\Experiments\\retired\\Cohort_1.1\\Observer_Experienced\\024665\\day2-10282021143647-0000.avi\",\n",
    "                 r\"E:\\Experiments\\retired\\Cohort_1.1\\Observer_Experienced\\024665\\day3-10292021161912-0000.avi\",\n",
    "                 r\"E:\\Experiments\\retired\\Cohort_1.1\\Observer_Experienced\\024672\\day2-10282021133248-0000.avi\",\n",
    "                 r\"E:\\Experiments\\retired\\Cohort_1.1\\Observer_Experienced\\024672\\day3-10292021165100-0000.avi\",\n",
    "                 r\"E:\\Experiments\\retired\\Cohort_1.1\\Observer_Experienced\\024676\\day2-024676.mp4\",\n",
    "                 r\"E:\\Experiments\\retired\\Cohort_1.1\\Observer_Experienced\\024676\\day3-10292021150416-0000.avi\",\n",
    "                 r\"E:\\Experiments\\retired\\Cohort_1.1\\Observer_Experienced\\024682\\day2-10282021120558-0000.avi\",\n",
    "                 r\"E:\\Experiments\\retired\\Cohort_1.1\\Observer_Experienced\\024682\\day3-10292021154622-0000.avi\",\n",
    "                 r\"E:\\Experiments\\retired\\Cohort_1.2\\Observer_Experienced\\024608\\day2-11042021164404-0000.avi\",\n",
    "                 r\"E:\\Experiments\\retired\\Cohort_1.2\\Observer_Experienced\\024608\\day3-11052021173739-0000.avi\",\n",
    "                 r\"E:\\Experiments\\retired\\Cohort_1.2\\Observer_Experienced\\024658\\day2-11042021152817-0000.avi\",\n",
    "                 r\"E:\\Experiments\\retired\\Cohort_1.2\\Observer_Experienced\\024658\\day3-11052021134703-0000-reencoded.avi\",\n",
    "                 r\"E:\\Experiments\\retired\\Cohort_1.2\\Observer_Experienced\\024660\\day2-11042021145731-0000.avi\",\n",
    "                 r\"E:\\Experiments\\retired\\Cohort_1.2\\Observer_Experienced\\024660\\day3-11052021185207-0000.avi\",\n",
    "                 r\"E:\\Experiments\\retired\\Cohort_1.2\\Observer_Experienced\\024674\\day2-11042021131739-0000.avi\",\n",
    "                 r\"E:\\Experiments\\retired\\Cohort_1.2\\Observer_Experienced\\024674\\day3-11052021165505-0000.avi\",\n",
    "                 r\"E:\\Experiments\\retired\\Cohort_1.2\\Observer_Experienced\\024678\\day2-11042021134545-0000.avi\",\n",
    "                 r\"E:\\Experiments\\retired\\Cohort_1.2\\Observer_Experienced\\024678\\day3-11052021144900.avi\",\n",
    "                 r\"E:\\Experiments\\retired\\Cohort_1.2\\Observer_Experienced\\024680\\day2-11042021142119-0000.avi\",\n",
    "                 r\"E:\\Experiments\\retired\\Cohort_1.2\\Observer_Experienced\\024680\\day3-11052021181527-0000.avi\",\n",
    "                 r\"E:\\Experiments\\retired\\Cohort_2.1\\Observer_Naive\\024746\\day2-11182021155137-0000.avi\",\n",
    "                 r\"E:\\Experiments\\retired\\Cohort_2.1\\Observer_Naive\\024746\\day3-11192021190522-0000.avi\",\n",
    "                 r\"E:\\Experiments\\retired\\Cohort_2.1\\Observer_Naive\\024756\\day2-11182021135203-0000.avi\",\n",
    "                 r\"E:\\Experiments\\retired\\Cohort_2.1\\Observer_Naive\\024756\\day3-11192021174757-0000.avi\",\n",
    "                 r\"E:\\Experiments\\retired\\Cohort_2.1\\Observer_Naive\\024761\\day2-11182021152003-0000.avi\",\n",
    "                 r\"E:\\Experiments\\retired\\Cohort_2.1\\Observer_Naive\\024761\\day3-11192021170808-0000.avi\",\n",
    "                 r\"E:\\Experiments\\retired\\Cohort_2.1\\Observer_Naive\\024763\\day2-11182021112809-0000.avi\",\n",
    "                 r\"E:\\Experiments\\retired\\Cohort_2.1\\Observer_Naive\\024763\\day3-11192021141814-0000.avi\",\n",
    "                 r\"E:\\Experiments\\retired\\Cohort_2.1\\Observer_Naive\\024767\\day2-11182021120018-0000.avi\",\n",
    "                 r\"E:\\Experiments\\retired\\Cohort_2.1\\Observer_Naive\\024767\\day3-11192021154718-0000.avi\",\n",
    "                 r\"E:\\Experiments\\retired\\Cohort_2.1\\Observer_Naive\\024770\\day2-11182021162133-0000.avi\",\n",
    "                 r\"E:\\Experiments\\retired\\Cohort_2.1\\Observer_Naive\\024770\\day3-11192021182453-0000.avi\",\n",
    "                 r\"E:\\Experiments\\retired\\Cohort_2.1\\Observer_Naive\\024772\\day2-11182021145004-0000.avi\",\n",
    "                 r\"E:\\Experiments\\retired\\Cohort_2.1\\Observer_Naive\\024772\\day3-11192021162723-0000.avi\",\n",
    "                 r\"E:\\Experiments\\retired\\Cohort_2.1\\Observer_Experienced\\024748\\day2-11182021142216-0000.avi\",\n",
    "                 r\"E:\\Experiments\\retired\\Cohort_2.1\\Observer_Experienced\\024748\\day3-11192021133827-0000.avi\",\n",
    "                 r\"E:\\Experiments\\retired\\Cohort_2.1\\Observer_Experienced\\024765\\day2-11182021132334-0000.avi\",\n",
    "                 r\"E:\\Experiments\\retired\\Cohort_2.1\\Observer_Experienced\\024765\\day3-11192021150546-0000.avi\"]"
   ]
  },
  {
   "cell_type": "code",
   "execution_count": 5,
   "id": "2ceea9b1",
   "metadata": {},
   "outputs": [],
   "source": [
    "videos = [r\"E:\\Experiments\\behavior\\Cohort_3.1\\Observer_Experienced\\001479\\day0_001479_serial21016426.mp4\",\n",
    "          r\"E:\\Experiments\\behavior\\Cohort_3.1\\Observer_Experienced\\024752\\day0_024752_serial21016426.mp4\",\n",
    "          r\"E:\\Experiments\\behavior\\Cohort_3.1\\Observer_Experienced\\024755\\day0_024755_serial21016426.mp4\",\n",
    "          r\"E:\\Experiments\\behavior\\Cohort_3.1\\Observer_Experienced\\024760\\day0_024760_serial21016426.mp4\"]"
   ]
  },
  {
   "cell_type": "markdown",
   "id": "1071096e",
   "metadata": {},
   "source": [
    "### Create project"
   ]
  },
  {
   "cell_type": "code",
   "execution_count": 6,
   "id": "fe278869",
   "metadata": {},
   "outputs": [
    {
     "name": "stdout",
     "output_type": "stream",
     "text": [
      "Created \"E:\\Experiments\\dlc\\dlc_live-mouse_runner-2022-02-16\\videos\"\n",
      "Created \"E:\\Experiments\\dlc\\dlc_live-mouse_runner-2022-02-16\\labeled-data\"\n",
      "Created \"E:\\Experiments\\dlc\\dlc_live-mouse_runner-2022-02-16\\training-datasets\"\n",
      "Created \"E:\\Experiments\\dlc\\dlc_live-mouse_runner-2022-02-16\\dlc-models\"\n",
      "Attempting to create a symbolic link of the video ...\n",
      "Created the symlink of E:\\Experiments\\behavior\\Cohort_3.1\\Observer_Experienced\\001479\\day0_001479_serial21016426.mp4 to E:\\Experiments\\dlc\\dlc_live-mouse_runner-2022-02-16\\videos\\day0_001479_serial21016426.mp4\n",
      "Created the symlink of E:\\Experiments\\behavior\\Cohort_3.1\\Observer_Experienced\\024752\\day0_024752_serial21016426.mp4 to E:\\Experiments\\dlc\\dlc_live-mouse_runner-2022-02-16\\videos\\day0_024752_serial21016426.mp4\n",
      "Created the symlink of E:\\Experiments\\behavior\\Cohort_3.1\\Observer_Experienced\\024755\\day0_024755_serial21016426.mp4 to E:\\Experiments\\dlc\\dlc_live-mouse_runner-2022-02-16\\videos\\day0_024755_serial21016426.mp4\n",
      "Created the symlink of E:\\Experiments\\behavior\\Cohort_3.1\\Observer_Experienced\\024760\\day0_024760_serial21016426.mp4 to E:\\Experiments\\dlc\\dlc_live-mouse_runner-2022-02-16\\videos\\day0_024760_serial21016426.mp4\n",
      "E:\\Experiments\\dlc\\dlc_live-mouse_runner-2022-02-16\\videos\\day0_001479_serial21016426.mp4\n",
      "E:\\Experiments\\dlc\\dlc_live-mouse_runner-2022-02-16\\videos\\day0_024752_serial21016426.mp4\n",
      "E:\\Experiments\\dlc\\dlc_live-mouse_runner-2022-02-16\\videos\\day0_024755_serial21016426.mp4\n",
      "E:\\Experiments\\dlc\\dlc_live-mouse_runner-2022-02-16\\videos\\day0_024760_serial21016426.mp4\n",
      "Generated \"E:\\Experiments\\dlc\\dlc_live-mouse_runner-2022-02-16\\config.yaml\"\n",
      "\n",
      "A new project with name dlc_live-mouse_runner-2022-02-16 is created at E:\\Experiments\\dlc and a configurable file (config.yaml) is stored there. Change the parameters in this file to adapt to your project's needs.\n",
      " Once you have changed the configuration file, use the function 'extract_frames' to select frames for labeling.\n",
      ". [OPTIONAL] Use the function 'add_new_videos' to add new videos to your project (at any stage).\n"
     ]
    }
   ],
   "source": [
    "config_path = deeplabcut.create_new_project(project_name,\\\n",
    "                                            experimenter,\\\n",
    "                                            videos,\\\n",
    "                                            working_directory=working_directory,\\\n",
    "                                            copy_videos=False,\\\n",
    "                                            multianimal=True)"
   ]
  },
  {
   "cell_type": "markdown",
   "id": "58a9412f",
   "metadata": {},
   "source": [
    "### Assign bodypart labels and create skeleton"
   ]
  },
  {
   "cell_type": "code",
   "execution_count": 7,
   "id": "6f756ffd",
   "metadata": {},
   "outputs": [],
   "source": [
    "bodyparts = ['snout', 'left_ear', 'right_ear', 'left_eye', 'right_eye',\\\n",
    "             'left_forepaw', 'right_forepaw', 'left_hindpaw', 'right_hindpaw', 'tail_base', 'tail_tip']"
   ]
  },
  {
   "cell_type": "code",
   "execution_count": 8,
   "id": "8673de5d",
   "metadata": {},
   "outputs": [],
   "source": [
    "skeleton = list(itertools.combinations(bodyparts,2))"
   ]
  },
  {
   "cell_type": "markdown",
   "id": "82e4d2c2",
   "metadata": {},
   "source": [
    "### Edit configuration file"
   ]
  },
  {
   "cell_type": "code",
   "execution_count": 9,
   "id": "045d51bd",
   "metadata": {},
   "outputs": [],
   "source": [
    "edits = {'identity'             : True,  \n",
    "         'colormap'             : 'Set3',\n",
    "         'individuals'          : ['mouse1', 'mouse2'],\n",
    "         'uniquebodyparts'      : [],\n",
    "         'multianimalbodyparts' : bodyparts,\n",
    "         'skeleton'             : skeleton,\n",
    "         'start'                : 0.25,\n",
    "         'stop'                 : 0.75,\n",
    "         'numframes2pick'       : 15,\n",
    "         'dotsize'              : 5}"
   ]
  },
  {
   "cell_type": "code",
   "execution_count": 10,
   "id": "f737d5c9",
   "metadata": {},
   "outputs": [
    {
     "data": {
      "text/plain": [
       "ordereddict([('Task', 'dlc_live'), ('scorer', 'mouse_runner'), ('date', 'Feb16'), ('multianimalproject', True), ('identity', True), ('project_path', 'E:\\\\Experiments\\\\dlc\\\\dlc_live-mouse_runner-2022-02-16'), ('video_sets', ordereddict([('E:\\\\Experiments\\\\behavior\\\\Cohort_3.1\\\\Observer_Experienced\\\\001479\\\\day0_001479_serial21016426.mp4', ordereddict([('crop', '0, 1852, 0, 1300')])), ('E:\\\\Experiments\\\\behavior\\\\Cohort_3.1\\\\Observer_Experienced\\\\024752\\\\day0_024752_serial21016426.mp4', ordereddict([('crop', '0, 1852, 0, 1300')])), ('E:\\\\Experiments\\\\behavior\\\\Cohort_3.1\\\\Observer_Experienced\\\\024755\\\\day0_024755_serial21016426.mp4', ordereddict([('crop', '0, 1852, 0, 1300')])), ('E:\\\\Experiments\\\\behavior\\\\Cohort_3.1\\\\Observer_Experienced\\\\024760\\\\day0_024760_serial21016426.mp4', ordereddict([('crop', '0, 1852, 0, 1300')]))])), ('individuals', ['mouse1', 'mouse2']), ('uniquebodyparts', []), ('multianimalbodyparts', ['snout', 'left_ear', 'right_ear', 'left_eye', 'right_eye', 'left_forepaw', 'right_forepaw', 'left_hindpaw', 'right_hindpaw', 'tail_base', 'tail_tip']), ('skeleton', [('snout', 'left_ear'), ('snout', 'right_ear'), ('snout', 'left_eye'), ('snout', 'right_eye'), ('snout', 'left_forepaw'), ('snout', 'right_forepaw'), ('snout', 'left_hindpaw'), ('snout', 'right_hindpaw'), ('snout', 'tail_base'), ('snout', 'tail_tip'), ('left_ear', 'right_ear'), ('left_ear', 'left_eye'), ('left_ear', 'right_eye'), ('left_ear', 'left_forepaw'), ('left_ear', 'right_forepaw'), ('left_ear', 'left_hindpaw'), ('left_ear', 'right_hindpaw'), ('left_ear', 'tail_base'), ('left_ear', 'tail_tip'), ('right_ear', 'left_eye'), ('right_ear', 'right_eye'), ('right_ear', 'left_forepaw'), ('right_ear', 'right_forepaw'), ('right_ear', 'left_hindpaw'), ('right_ear', 'right_hindpaw'), ('right_ear', 'tail_base'), ('right_ear', 'tail_tip'), ('left_eye', 'right_eye'), ('left_eye', 'left_forepaw'), ('left_eye', 'right_forepaw'), ('left_eye', 'left_hindpaw'), ('left_eye', 'right_hindpaw'), ('left_eye', 'tail_base'), ('left_eye', 'tail_tip'), ('right_eye', 'left_forepaw'), ('right_eye', 'right_forepaw'), ('right_eye', 'left_hindpaw'), ('right_eye', 'right_hindpaw'), ('right_eye', 'tail_base'), ('right_eye', 'tail_tip'), ('left_forepaw', 'right_forepaw'), ('left_forepaw', 'left_hindpaw'), ('left_forepaw', 'right_hindpaw'), ('left_forepaw', 'tail_base'), ('left_forepaw', 'tail_tip'), ('right_forepaw', 'left_hindpaw'), ('right_forepaw', 'right_hindpaw'), ('right_forepaw', 'tail_base'), ('right_forepaw', 'tail_tip'), ('left_hindpaw', 'right_hindpaw'), ('left_hindpaw', 'tail_base'), ('left_hindpaw', 'tail_tip'), ('right_hindpaw', 'tail_base'), ('right_hindpaw', 'tail_tip'), ('tail_base', 'tail_tip')]), ('bodyparts', 'MULTI!'), ('start', 0.25), ('stop', 0.75), ('numframes2pick', 15), ('skeleton_color', 'black'), ('pcutoff', 0.6), ('dotsize', 5), ('alphavalue', 0.7), ('colormap', 'Set3'), ('TrainingFraction', [0.95]), ('iteration', 0), ('default_net_type', 'dlcrnet_ms5'), ('default_augmenter', 'multi-animal-imgaug'), ('default_track_method', 'ellipse'), ('snapshotindex', -1), ('batch_size', 8), ('cropping', False), ('x1', 0), ('x2', 640), ('y1', 277), ('y2', 624), ('corner2move2', [50, 50]), ('move2corner', True)])"
      ]
     },
     "execution_count": 10,
     "metadata": {},
     "output_type": "execute_result"
    }
   ],
   "source": [
    "deeplabcut.auxiliaryfunctions.edit_config(config_path, edits)"
   ]
  },
  {
   "cell_type": "markdown",
   "id": "b96fb04d",
   "metadata": {},
   "source": [
    "### Print config path for later access"
   ]
  },
  {
   "cell_type": "code",
   "execution_count": 11,
   "id": "d2c64402",
   "metadata": {},
   "outputs": [
    {
     "name": "stdout",
     "output_type": "stream",
     "text": [
      "E:\\Experiments\\dlc\\dlc_live-mouse_runner-2022-02-16\\config.yaml\n"
     ]
    }
   ],
   "source": [
    "print(config_path)"
   ]
  },
  {
   "cell_type": "markdown",
   "id": "3fc8b04b",
   "metadata": {},
   "source": [
    "### Extract frames for labeling (this will take a while)"
   ]
  },
  {
   "cell_type": "code",
   "execution_count": 12,
   "id": "82a26308",
   "metadata": {
    "scrolled": true
   },
   "outputs": [
    {
     "name": "stdout",
     "output_type": "stream",
     "text": [
      "Config file read successfully.\n",
      "Extracting frames based on kmeans ...\n",
      "Kmeans-quantization based extracting of frames from 303.1  seconds to 909.28  seconds.\n",
      "Extracting and downsampling... 30311  frames from the video.\n"
     ]
    },
    {
     "name": "stderr",
     "output_type": "stream",
     "text": [
      "30311it [13:14, 38.15it/s]\n"
     ]
    },
    {
     "name": "stdout",
     "output_type": "stream",
     "text": [
      "Kmeans clustering ... (this might take a while)\n"
     ]
    },
    {
     "name": "stderr",
     "output_type": "stream",
     "text": [
      "C:\\Users\\jacobdahan\\Anaconda3\\envs\\MouseRunner\\lib\\site-packages\\sklearn\\cluster\\_kmeans.py:1043: UserWarning: MiniBatchKMeans is known to have a memory leak on Windows with MKL, when there are less chunks than available threads. You can prevent it by setting batch_size >= 8192 or by setting the environment variable OMP_NUM_THREADS=1\n",
      "  warnings.warn(\n"
     ]
    },
    {
     "name": "stdout",
     "output_type": "stream",
     "text": [
      "Extracting frames based on kmeans ...\n",
      "Kmeans-quantization based extracting of frames from 304.06  seconds to 912.18  seconds.\n",
      "Extracting and downsampling... 30406  frames from the video.\n"
     ]
    },
    {
     "name": "stderr",
     "output_type": "stream",
     "text": [
      "30406it [13:19, 38.03it/s]\n"
     ]
    },
    {
     "name": "stdout",
     "output_type": "stream",
     "text": [
      "Kmeans clustering ... (this might take a while)\n"
     ]
    },
    {
     "name": "stderr",
     "output_type": "stream",
     "text": [
      "C:\\Users\\jacobdahan\\Anaconda3\\envs\\MouseRunner\\lib\\site-packages\\sklearn\\cluster\\_kmeans.py:1043: UserWarning: MiniBatchKMeans is known to have a memory leak on Windows with MKL, when there are less chunks than available threads. You can prevent it by setting batch_size >= 8192 or by setting the environment variable OMP_NUM_THREADS=1\n",
      "  warnings.warn(\n"
     ]
    },
    {
     "name": "stdout",
     "output_type": "stream",
     "text": [
      "Extracting frames based on kmeans ...\n",
      "Kmeans-quantization based extracting of frames from 329.46  seconds to 988.39  seconds.\n",
      "Extracting and downsampling... 32947  frames from the video.\n"
     ]
    },
    {
     "name": "stderr",
     "output_type": "stream",
     "text": [
      "32947it [14:25, 38.08it/s]\n"
     ]
    },
    {
     "name": "stdout",
     "output_type": "stream",
     "text": [
      "Kmeans clustering ... (this might take a while)\n"
     ]
    },
    {
     "name": "stderr",
     "output_type": "stream",
     "text": [
      "C:\\Users\\jacobdahan\\Anaconda3\\envs\\MouseRunner\\lib\\site-packages\\sklearn\\cluster\\_kmeans.py:1043: UserWarning: MiniBatchKMeans is known to have a memory leak on Windows with MKL, when there are less chunks than available threads. You can prevent it by setting batch_size >= 8192 or by setting the environment variable OMP_NUM_THREADS=1\n",
      "  warnings.warn(\n"
     ]
    },
    {
     "name": "stdout",
     "output_type": "stream",
     "text": [
      "Extracting frames based on kmeans ...\n",
      "Kmeans-quantization based extracting of frames from 320.88  seconds to 962.64  seconds.\n",
      "Extracting and downsampling... 32088  frames from the video.\n"
     ]
    },
    {
     "name": "stderr",
     "output_type": "stream",
     "text": [
      "32088it [15:18, 34.93it/s]\n"
     ]
    },
    {
     "name": "stdout",
     "output_type": "stream",
     "text": [
      "Kmeans clustering ... (this might take a while)\n"
     ]
    },
    {
     "name": "stderr",
     "output_type": "stream",
     "text": [
      "C:\\Users\\jacobdahan\\Anaconda3\\envs\\MouseRunner\\lib\\site-packages\\sklearn\\cluster\\_kmeans.py:1043: UserWarning: MiniBatchKMeans is known to have a memory leak on Windows with MKL, when there are less chunks than available threads. You can prevent it by setting batch_size >= 8192 or by setting the environment variable OMP_NUM_THREADS=1\n",
      "  warnings.warn(\n"
     ]
    },
    {
     "name": "stdout",
     "output_type": "stream",
     "text": [
      "Frames were successfully extracted, for the videos listed in the config.yaml file.\n",
      "\n",
      "You can now label the frames using the function 'label_frames' (Note, you should label frames extracted from diverse videos (and many videos; we do not recommend training on single videos!)).\n"
     ]
    }
   ],
   "source": [
    "deeplabcut.extract_frames(config_path, mode='automatic', algo='kmeans', userfeedback=False, crop=True)"
   ]
  },
  {
   "cell_type": "markdown",
   "id": "029c3d63",
   "metadata": {},
   "source": [
    "### Label frames (manual)"
   ]
  },
  {
   "cell_type": "code",
   "execution_count": null,
   "id": "be14c961",
   "metadata": {},
   "outputs": [
    {
     "name": "stdout",
     "output_type": "stream",
     "text": [
      "You can now check the labels, using 'check_labels' before proceeding. Then,  you can use the function 'create_training_dataset' to create the training dataset.\n"
     ]
    }
   ],
   "source": [
    "deeplabcut.label_frames(config_path)"
   ]
  },
  {
   "cell_type": "code",
   "execution_count": null,
   "id": "48f9a988",
   "metadata": {},
   "outputs": [],
   "source": [
    "E:\\Experiments\\dlc\\dlc_live-mouse_runner-2022-02-16\\config.yaml"
   ]
  }
 ],
 "metadata": {
  "kernelspec": {
   "display_name": "MouseRunner",
   "language": "python",
   "name": "mouserunner"
  },
  "language_info": {
   "codemirror_mode": {
    "name": "ipython",
    "version": 3
   },
   "file_extension": ".py",
   "mimetype": "text/x-python",
   "name": "python",
   "nbconvert_exporter": "python",
   "pygments_lexer": "ipython3",
   "version": "3.8.12"
  }
 },
 "nbformat": 4,
 "nbformat_minor": 5
}
